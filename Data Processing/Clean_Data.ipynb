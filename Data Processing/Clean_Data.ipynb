{
  "nbformat": 4,
  "nbformat_minor": 0,
  "metadata": {
    "colab": {
      "name": "Clean Data",
      "provenance": [],
      "collapsed_sections": [],
      "authorship_tag": "ABX9TyPfYP6KdRl8fd3ffYr86t06"
    },
    "kernelspec": {
      "name": "python3",
      "display_name": "Python 3"
    },
    "language_info": {
      "name": "python"
    }
  },
  "cells": [
    {
      "cell_type": "code",
      "metadata": {
        "colab": {
          "base_uri": "https://localhost:8080/"
        },
        "id": "hfjNYTJZblDH",
        "outputId": "35ce032b-d362-4e97-92ed-e98ab5bf6adb"
      },
      "source": [
        "import pandas as pd\n",
        "import re\n",
        "import nltk\n",
        "from nltk.corpus import stopwords\n",
        "from textblob import Word\n",
        "from sklearn.feature_extraction.text import CountVectorizer\n",
        "nltk.download(\"stopwords\")\n",
        "nltk.download(\"wordnet\")\n",
        "import matplotlib.pyplot as plt\n",
        "from wordcloud import WordCloud, STOPWORDS\n",
        "from sklearn.feature_extraction.text import CountVectorizer\n",
        "from collections import defaultdict\n",
        "import seaborn as sns"
      ],
      "execution_count": null,
      "outputs": [
        {
          "output_type": "stream",
          "text": [
            "[nltk_data] Downloading package stopwords to /root/nltk_data...\n",
            "[nltk_data]   Package stopwords is already up-to-date!\n",
            "[nltk_data] Downloading package wordnet to /root/nltk_data...\n",
            "[nltk_data]   Package wordnet is already up-to-date!\n"
          ],
          "name": "stdout"
        }
      ]
    },
    {
      "cell_type": "code",
      "metadata": {
        "colab": {
          "base_uri": "https://localhost:8080/",
          "height": 354
        },
        "id": "4w1mzwiHbn36",
        "outputId": "273f73fc-a7c6-42ef-a6fd-5cc6c60c3096"
      },
      "source": [
        "train = pd.read_csv(\"/content/sample_data/TapasData - Copy.csv\")\n",
        "\n",
        "train.head()"
      ],
      "execution_count": null,
      "outputs": [
        {
          "output_type": "execute_result",
          "data": {
            "text/html": [
              "<div>\n",
              "<style scoped>\n",
              "    .dataframe tbody tr th:only-of-type {\n",
              "        vertical-align: middle;\n",
              "    }\n",
              "\n",
              "    .dataframe tbody tr th {\n",
              "        vertical-align: top;\n",
              "    }\n",
              "\n",
              "    .dataframe thead th {\n",
              "        text-align: right;\n",
              "    }\n",
              "</style>\n",
              "<table border=\"1\" class=\"dataframe\">\n",
              "  <thead>\n",
              "    <tr style=\"text-align: right;\">\n",
              "      <th></th>\n",
              "      <th>Unnamed: 0</th>\n",
              "      <th>Title</th>\n",
              "      <th>Category</th>\n",
              "      <th>Date</th>\n",
              "      <th>Likes</th>\n",
              "      <th>Num Replies</th>\n",
              "      <th>Num Views</th>\n",
              "      <th>Original Post</th>\n",
              "      <th>Comments</th>\n",
              "    </tr>\n",
              "  </thead>\n",
              "  <tbody>\n",
              "    <tr>\n",
              "      <th>0</th>\n",
              "      <td>0</td>\n",
              "      <td>The Two Other Species (Novel)</td>\n",
              "      <td>Announcements</td>\n",
              "      <td>Jul 19, 2021 3:11 am</td>\n",
              "      <td>0</td>\n",
              "      <td>Map Unavailable</td>\n",
              "      <td>Map Unavailable</td>\n",
              "      <td>Hello everyone, My name is Genr not my real na...</td>\n",
              "      <td>[]</td>\n",
              "    </tr>\n",
              "    <tr>\n",
              "      <th>1</th>\n",
              "      <td>1</td>\n",
              "      <td>“Lanche”, a textless comic [one-shot]</td>\n",
              "      <td>Announcements</td>\n",
              "      <td>Jul 18, 2021 5:54 pm</td>\n",
              "      <td>0</td>\n",
              "      <td>Map Unavailable</td>\n",
              "      <td>Map Unavailable</td>\n",
              "      <td>Hey there! \\nDAKÍCORP's comics have been broug...</td>\n",
              "      <td>[]</td>\n",
              "    </tr>\n",
              "    <tr>\n",
              "      <th>2</th>\n",
              "      <td>2</td>\n",
              "      <td>Moon Violations Unit - Episode 1 complete</td>\n",
              "      <td>Announcements</td>\n",
              "      <td>Jul 11, 2021 8:51 am</td>\n",
              "      <td>1 Like</td>\n",
              "      <td>4</td>\n",
              "      <td>107</td>\n",
              "      <td>Huge story ahead. Comments/Subs very welcome.\\...</td>\n",
              "      <td>['What a great and refreshing new comic. (in r...</td>\n",
              "    </tr>\n",
              "    <tr>\n",
              "      <th>3</th>\n",
              "      <td>3</td>\n",
              "      <td>Introducing Lauren, Community Marketing Intern</td>\n",
              "      <td>Announcements</td>\n",
              "      <td>Jun 22, 2021 5:40 pm</td>\n",
              "      <td>20</td>\n",
              "      <td>24</td>\n",
              "      <td>337</td>\n",
              "      <td>Welcome Lauren!</td>\n",
              "      <td>['Hi Lauren, welcome~', 'Oh dang! Welcome, Lau...</td>\n",
              "    </tr>\n",
              "    <tr>\n",
              "      <th>4</th>\n",
              "      <td>4</td>\n",
              "      <td>✨⁠ Tapas Milestone Assets for Creators ✨⁠</td>\n",
              "      <td>Announcements</td>\n",
              "      <td>May 26, 2021 11:49 am</td>\n",
              "      <td>19</td>\n",
              "      <td>10</td>\n",
              "      <td>240</td>\n",
              "      <td>Just need 4k more...</td>\n",
              "      <td>['this is cool thanks! the milestone are edita...</td>\n",
              "    </tr>\n",
              "  </tbody>\n",
              "</table>\n",
              "</div>"
            ],
            "text/plain": [
              "   Unnamed: 0  ...                                           Comments\n",
              "0           0  ...                                                 []\n",
              "1           1  ...                                                 []\n",
              "2           2  ...  ['What a great and refreshing new comic. (in r...\n",
              "3           3  ...  ['Hi Lauren, welcome~', 'Oh dang! Welcome, Lau...\n",
              "4           4  ...  ['this is cool thanks! the milestone are edita...\n",
              "\n",
              "[5 rows x 9 columns]"
            ]
          },
          "metadata": {
            "tags": []
          },
          "execution_count": 41
        }
      ]
    },
    {
      "cell_type": "code",
      "metadata": {
        "colab": {
          "base_uri": "https://localhost:8080/",
          "height": 304
        },
        "id": "5N9Av1WlgH1t",
        "outputId": "12423c2c-cc3e-49a5-eb3c-8476a93faba3"
      },
      "source": [
        "train = train.drop(columns=[\"Unnamed: 0\"])\n",
        "train.head()"
      ],
      "execution_count": null,
      "outputs": [
        {
          "output_type": "execute_result",
          "data": {
            "text/html": [
              "<div>\n",
              "<style scoped>\n",
              "    .dataframe tbody tr th:only-of-type {\n",
              "        vertical-align: middle;\n",
              "    }\n",
              "\n",
              "    .dataframe tbody tr th {\n",
              "        vertical-align: top;\n",
              "    }\n",
              "\n",
              "    .dataframe thead th {\n",
              "        text-align: right;\n",
              "    }\n",
              "</style>\n",
              "<table border=\"1\" class=\"dataframe\">\n",
              "  <thead>\n",
              "    <tr style=\"text-align: right;\">\n",
              "      <th></th>\n",
              "      <th>Title</th>\n",
              "      <th>Category</th>\n",
              "      <th>Date</th>\n",
              "      <th>Likes</th>\n",
              "      <th>Num Replies</th>\n",
              "      <th>Num Views</th>\n",
              "      <th>Original Post</th>\n",
              "      <th>Comments</th>\n",
              "    </tr>\n",
              "  </thead>\n",
              "  <tbody>\n",
              "    <tr>\n",
              "      <th>0</th>\n",
              "      <td>The Two Other Species (Novel)</td>\n",
              "      <td>Announcements</td>\n",
              "      <td>Jul 19, 2021 3:11 am</td>\n",
              "      <td>0</td>\n",
              "      <td>Map Unavailable</td>\n",
              "      <td>Map Unavailable</td>\n",
              "      <td>Hello everyone, My name is Genr not my real na...</td>\n",
              "      <td>[]</td>\n",
              "    </tr>\n",
              "    <tr>\n",
              "      <th>1</th>\n",
              "      <td>“Lanche”, a textless comic [one-shot]</td>\n",
              "      <td>Announcements</td>\n",
              "      <td>Jul 18, 2021 5:54 pm</td>\n",
              "      <td>0</td>\n",
              "      <td>Map Unavailable</td>\n",
              "      <td>Map Unavailable</td>\n",
              "      <td>Hey there! \\nDAKÍCORP's comics have been broug...</td>\n",
              "      <td>[]</td>\n",
              "    </tr>\n",
              "    <tr>\n",
              "      <th>2</th>\n",
              "      <td>Moon Violations Unit - Episode 1 complete</td>\n",
              "      <td>Announcements</td>\n",
              "      <td>Jul 11, 2021 8:51 am</td>\n",
              "      <td>1 Like</td>\n",
              "      <td>4</td>\n",
              "      <td>107</td>\n",
              "      <td>Huge story ahead. Comments/Subs very welcome.\\...</td>\n",
              "      <td>['What a great and refreshing new comic. (in r...</td>\n",
              "    </tr>\n",
              "    <tr>\n",
              "      <th>3</th>\n",
              "      <td>Introducing Lauren, Community Marketing Intern</td>\n",
              "      <td>Announcements</td>\n",
              "      <td>Jun 22, 2021 5:40 pm</td>\n",
              "      <td>20</td>\n",
              "      <td>24</td>\n",
              "      <td>337</td>\n",
              "      <td>Welcome Lauren!</td>\n",
              "      <td>['Hi Lauren, welcome~', 'Oh dang! Welcome, Lau...</td>\n",
              "    </tr>\n",
              "    <tr>\n",
              "      <th>4</th>\n",
              "      <td>✨⁠ Tapas Milestone Assets for Creators ✨⁠</td>\n",
              "      <td>Announcements</td>\n",
              "      <td>May 26, 2021 11:49 am</td>\n",
              "      <td>19</td>\n",
              "      <td>10</td>\n",
              "      <td>240</td>\n",
              "      <td>Just need 4k more...</td>\n",
              "      <td>['this is cool thanks! the milestone are edita...</td>\n",
              "    </tr>\n",
              "  </tbody>\n",
              "</table>\n",
              "</div>"
            ],
            "text/plain": [
              "                                            Title  ...                                           Comments\n",
              "0                   The Two Other Species (Novel)  ...                                                 []\n",
              "1           “Lanche”, a textless comic [one-shot]  ...                                                 []\n",
              "2       Moon Violations Unit - Episode 1 complete  ...  ['What a great and refreshing new comic. (in r...\n",
              "3  Introducing Lauren, Community Marketing Intern  ...  ['Hi Lauren, welcome~', 'Oh dang! Welcome, Lau...\n",
              "4       ✨⁠ Tapas Milestone Assets for Creators ✨⁠  ...  ['this is cool thanks! the milestone are edita...\n",
              "\n",
              "[5 rows x 8 columns]"
            ]
          },
          "metadata": {
            "tags": []
          },
          "execution_count": 42
        }
      ]
    },
    {
      "cell_type": "code",
      "metadata": {
        "colab": {
          "base_uri": "https://localhost:8080/",
          "height": 338
        },
        "id": "binHh5zJhbfl",
        "outputId": "2b74f1c8-2c0b-4b41-f605-88048dbca092"
      },
      "source": [
        "train = train.drop(train[train[\"Original Post\"] == \"Aberrant HTML\"].index)\n",
        "train = train.drop(train[train[\"Comments\"] == \"[]\"].index)\n",
        "train = train.drop(train[train[\"Category\"] == \"Announcements\"].index)\n",
        "train = train.drop(train[train[\"Category\"] == \"Answered\"].index)\n",
        "\n",
        "train.head()"
      ],
      "execution_count": null,
      "outputs": [
        {
          "output_type": "execute_result",
          "data": {
            "text/html": [
              "<div>\n",
              "<style scoped>\n",
              "    .dataframe tbody tr th:only-of-type {\n",
              "        vertical-align: middle;\n",
              "    }\n",
              "\n",
              "    .dataframe tbody tr th {\n",
              "        vertical-align: top;\n",
              "    }\n",
              "\n",
              "    .dataframe thead th {\n",
              "        text-align: right;\n",
              "    }\n",
              "</style>\n",
              "<table border=\"1\" class=\"dataframe\">\n",
              "  <thead>\n",
              "    <tr style=\"text-align: right;\">\n",
              "      <th></th>\n",
              "      <th>Title</th>\n",
              "      <th>Category</th>\n",
              "      <th>Date</th>\n",
              "      <th>Likes</th>\n",
              "      <th>Num Replies</th>\n",
              "      <th>Num Views</th>\n",
              "      <th>Original Post</th>\n",
              "      <th>Comments</th>\n",
              "    </tr>\n",
              "  </thead>\n",
              "  <tbody>\n",
              "    <tr>\n",
              "      <th>119</th>\n",
              "      <td>July COMICS CHALLENGE - Get Stuff Done!</td>\n",
              "      <td>Events | Challenges</td>\n",
              "      <td>Jun 28, 2021 12:49 pm</td>\n",
              "      <td>24</td>\n",
              "      <td>300</td>\n",
              "      <td>1.7k</td>\n",
              "      <td>Some days you just don't work on your comic, e...</td>\n",
              "      <td>[\"Hi, I'm Gabriella. For this July Comics Chal...</td>\n",
              "    </tr>\n",
              "    <tr>\n",
              "      <th>120</th>\n",
              "      <td>March Comic Madness Contest Final Results</td>\n",
              "      <td>Events | Challenges</td>\n",
              "      <td>Jul 20, 2021 7:31 am</td>\n",
              "      <td>20</td>\n",
              "      <td>13</td>\n",
              "      <td>149</td>\n",
              "      <td>Hooray! \\nThe March Comic Madness Contest has ...</td>\n",
              "      <td>[\"Congrats to everyone and thank you so very m...</td>\n",
              "    </tr>\n",
              "    <tr>\n",
              "      <th>121</th>\n",
              "      <td>YOUR COMIC HERE! 1 page per day thread</td>\n",
              "      <td>Events | Challenges</td>\n",
              "      <td>Apr 5, 2020 2:21 pm</td>\n",
              "      <td>7</td>\n",
              "      <td>680</td>\n",
              "      <td>7.6k</td>\n",
              "      <td>As simple as it sounds! Start with your very f...</td>\n",
              "      <td>['Let me start this off:\\nAcroalis-1\\n\\nacroal...</td>\n",
              "    </tr>\n",
              "    <tr>\n",
              "      <th>123</th>\n",
              "      <td>Draw Panel in your Style Event with a PRIZE!</td>\n",
              "      <td>Events | Challenges</td>\n",
              "      <td>Jul 4, 2021 4:23 am</td>\n",
              "      <td>6</td>\n",
              "      <td>4</td>\n",
              "      <td>129</td>\n",
              "      <td>Hi, I haven't done this before. But I wanted t...</td>\n",
              "      <td>[\"This is so fun Count me in BTW how to enter ...</td>\n",
              "    </tr>\n",
              "    <tr>\n",
              "      <th>124</th>\n",
              "      <td>I won the pride contest yay</td>\n",
              "      <td>Events | Challenges</td>\n",
              "      <td>Jun 25, 2021 5:00 pm</td>\n",
              "      <td>30</td>\n",
              "      <td>13</td>\n",
              "      <td>217</td>\n",
              "      <td>yay  https://tapas.io/episode/220082625\\nwhene...</td>\n",
              "      <td>['Your art is adorable, congratulations on win...</td>\n",
              "    </tr>\n",
              "  </tbody>\n",
              "</table>\n",
              "</div>"
            ],
            "text/plain": [
              "                                            Title  ...                                           Comments\n",
              "119       July COMICS CHALLENGE - Get Stuff Done!  ...  [\"Hi, I'm Gabriella. For this July Comics Chal...\n",
              "120     March Comic Madness Contest Final Results  ...  [\"Congrats to everyone and thank you so very m...\n",
              "121        YOUR COMIC HERE! 1 page per day thread  ...  ['Let me start this off:\\nAcroalis-1\\n\\nacroal...\n",
              "123  Draw Panel in your Style Event with a PRIZE!  ...  [\"This is so fun Count me in BTW how to enter ...\n",
              "124                   I won the pride contest yay  ...  ['Your art is adorable, congratulations on win...\n",
              "\n",
              "[5 rows x 8 columns]"
            ]
          },
          "metadata": {
            "tags": []
          },
          "execution_count": 43
        }
      ]
    },
    {
      "cell_type": "code",
      "metadata": {
        "colab": {
          "base_uri": "https://localhost:8080/",
          "height": 338
        },
        "id": "O3Rr6UuyhdP2",
        "outputId": "264e9890-82d2-4959-a07b-ba85134c0ea1"
      },
      "source": [
        "train = train.reset_index(drop=True)\n",
        "train.head()"
      ],
      "execution_count": null,
      "outputs": [
        {
          "output_type": "execute_result",
          "data": {
            "text/html": [
              "<div>\n",
              "<style scoped>\n",
              "    .dataframe tbody tr th:only-of-type {\n",
              "        vertical-align: middle;\n",
              "    }\n",
              "\n",
              "    .dataframe tbody tr th {\n",
              "        vertical-align: top;\n",
              "    }\n",
              "\n",
              "    .dataframe thead th {\n",
              "        text-align: right;\n",
              "    }\n",
              "</style>\n",
              "<table border=\"1\" class=\"dataframe\">\n",
              "  <thead>\n",
              "    <tr style=\"text-align: right;\">\n",
              "      <th></th>\n",
              "      <th>Title</th>\n",
              "      <th>Category</th>\n",
              "      <th>Date</th>\n",
              "      <th>Likes</th>\n",
              "      <th>Num Replies</th>\n",
              "      <th>Num Views</th>\n",
              "      <th>Original Post</th>\n",
              "      <th>Comments</th>\n",
              "    </tr>\n",
              "  </thead>\n",
              "  <tbody>\n",
              "    <tr>\n",
              "      <th>0</th>\n",
              "      <td>July COMICS CHALLENGE - Get Stuff Done!</td>\n",
              "      <td>Events | Challenges</td>\n",
              "      <td>Jun 28, 2021 12:49 pm</td>\n",
              "      <td>24</td>\n",
              "      <td>300</td>\n",
              "      <td>1.7k</td>\n",
              "      <td>Some days you just don't work on your comic, e...</td>\n",
              "      <td>[\"Hi, I'm Gabriella. For this July Comics Chal...</td>\n",
              "    </tr>\n",
              "    <tr>\n",
              "      <th>1</th>\n",
              "      <td>March Comic Madness Contest Final Results</td>\n",
              "      <td>Events | Challenges</td>\n",
              "      <td>Jul 20, 2021 7:31 am</td>\n",
              "      <td>20</td>\n",
              "      <td>13</td>\n",
              "      <td>149</td>\n",
              "      <td>Hooray! \\nThe March Comic Madness Contest has ...</td>\n",
              "      <td>[\"Congrats to everyone and thank you so very m...</td>\n",
              "    </tr>\n",
              "    <tr>\n",
              "      <th>2</th>\n",
              "      <td>YOUR COMIC HERE! 1 page per day thread</td>\n",
              "      <td>Events | Challenges</td>\n",
              "      <td>Apr 5, 2020 2:21 pm</td>\n",
              "      <td>7</td>\n",
              "      <td>680</td>\n",
              "      <td>7.6k</td>\n",
              "      <td>As simple as it sounds! Start with your very f...</td>\n",
              "      <td>['Let me start this off:\\nAcroalis-1\\n\\nacroal...</td>\n",
              "    </tr>\n",
              "    <tr>\n",
              "      <th>3</th>\n",
              "      <td>Draw Panel in your Style Event with a PRIZE!</td>\n",
              "      <td>Events | Challenges</td>\n",
              "      <td>Jul 4, 2021 4:23 am</td>\n",
              "      <td>6</td>\n",
              "      <td>4</td>\n",
              "      <td>129</td>\n",
              "      <td>Hi, I haven't done this before. But I wanted t...</td>\n",
              "      <td>[\"This is so fun Count me in BTW how to enter ...</td>\n",
              "    </tr>\n",
              "    <tr>\n",
              "      <th>4</th>\n",
              "      <td>I won the pride contest yay</td>\n",
              "      <td>Events | Challenges</td>\n",
              "      <td>Jun 25, 2021 5:00 pm</td>\n",
              "      <td>30</td>\n",
              "      <td>13</td>\n",
              "      <td>217</td>\n",
              "      <td>yay  https://tapas.io/episode/220082625\\nwhene...</td>\n",
              "      <td>['Your art is adorable, congratulations on win...</td>\n",
              "    </tr>\n",
              "  </tbody>\n",
              "</table>\n",
              "</div>"
            ],
            "text/plain": [
              "                                          Title  ...                                           Comments\n",
              "0       July COMICS CHALLENGE - Get Stuff Done!  ...  [\"Hi, I'm Gabriella. For this July Comics Chal...\n",
              "1     March Comic Madness Contest Final Results  ...  [\"Congrats to everyone and thank you so very m...\n",
              "2        YOUR COMIC HERE! 1 page per day thread  ...  ['Let me start this off:\\nAcroalis-1\\n\\nacroal...\n",
              "3  Draw Panel in your Style Event with a PRIZE!  ...  [\"This is so fun Count me in BTW how to enter ...\n",
              "4                   I won the pride contest yay  ...  ['Your art is adorable, congratulations on win...\n",
              "\n",
              "[5 rows x 8 columns]"
            ]
          },
          "metadata": {
            "tags": []
          },
          "execution_count": 44
        }
      ]
    },
    {
      "cell_type": "code",
      "metadata": {
        "colab": {
          "base_uri": "https://localhost:8080/",
          "height": 338
        },
        "id": "8t-o4l71JGWL",
        "outputId": "de94960e-e236-42ae-8a1e-2f5ab3f7750d"
      },
      "source": [
        "train[\"Num Views\"] = train[\"Num Views\"].apply(lambda x: str(int(float(x.replace(\"k\",\"\"))*1000)) if \"k\" in x else x)\n",
        "train.head()"
      ],
      "execution_count": null,
      "outputs": [
        {
          "output_type": "execute_result",
          "data": {
            "text/html": [
              "<div>\n",
              "<style scoped>\n",
              "    .dataframe tbody tr th:only-of-type {\n",
              "        vertical-align: middle;\n",
              "    }\n",
              "\n",
              "    .dataframe tbody tr th {\n",
              "        vertical-align: top;\n",
              "    }\n",
              "\n",
              "    .dataframe thead th {\n",
              "        text-align: right;\n",
              "    }\n",
              "</style>\n",
              "<table border=\"1\" class=\"dataframe\">\n",
              "  <thead>\n",
              "    <tr style=\"text-align: right;\">\n",
              "      <th></th>\n",
              "      <th>Title</th>\n",
              "      <th>Category</th>\n",
              "      <th>Date</th>\n",
              "      <th>Likes</th>\n",
              "      <th>Num Replies</th>\n",
              "      <th>Num Views</th>\n",
              "      <th>Original Post</th>\n",
              "      <th>Comments</th>\n",
              "    </tr>\n",
              "  </thead>\n",
              "  <tbody>\n",
              "    <tr>\n",
              "      <th>0</th>\n",
              "      <td>July COMICS CHALLENGE - Get Stuff Done!</td>\n",
              "      <td>Events | Challenges</td>\n",
              "      <td>Jun 28, 2021 12:49 pm</td>\n",
              "      <td>24</td>\n",
              "      <td>300</td>\n",
              "      <td>1700</td>\n",
              "      <td>Some days you just don't work on your comic, e...</td>\n",
              "      <td>[\"Hi, I'm Gabriella. For this July Comics Chal...</td>\n",
              "    </tr>\n",
              "    <tr>\n",
              "      <th>1</th>\n",
              "      <td>March Comic Madness Contest Final Results</td>\n",
              "      <td>Events | Challenges</td>\n",
              "      <td>Jul 20, 2021 7:31 am</td>\n",
              "      <td>20</td>\n",
              "      <td>13</td>\n",
              "      <td>149</td>\n",
              "      <td>Hooray! \\nThe March Comic Madness Contest has ...</td>\n",
              "      <td>[\"Congrats to everyone and thank you so very m...</td>\n",
              "    </tr>\n",
              "    <tr>\n",
              "      <th>2</th>\n",
              "      <td>YOUR COMIC HERE! 1 page per day thread</td>\n",
              "      <td>Events | Challenges</td>\n",
              "      <td>Apr 5, 2020 2:21 pm</td>\n",
              "      <td>7</td>\n",
              "      <td>680</td>\n",
              "      <td>7600</td>\n",
              "      <td>As simple as it sounds! Start with your very f...</td>\n",
              "      <td>['Let me start this off:\\nAcroalis-1\\n\\nacroal...</td>\n",
              "    </tr>\n",
              "    <tr>\n",
              "      <th>3</th>\n",
              "      <td>Draw Panel in your Style Event with a PRIZE!</td>\n",
              "      <td>Events | Challenges</td>\n",
              "      <td>Jul 4, 2021 4:23 am</td>\n",
              "      <td>6</td>\n",
              "      <td>4</td>\n",
              "      <td>129</td>\n",
              "      <td>Hi, I haven't done this before. But I wanted t...</td>\n",
              "      <td>[\"This is so fun Count me in BTW how to enter ...</td>\n",
              "    </tr>\n",
              "    <tr>\n",
              "      <th>4</th>\n",
              "      <td>I won the pride contest yay</td>\n",
              "      <td>Events | Challenges</td>\n",
              "      <td>Jun 25, 2021 5:00 pm</td>\n",
              "      <td>30</td>\n",
              "      <td>13</td>\n",
              "      <td>217</td>\n",
              "      <td>yay  https://tapas.io/episode/220082625\\nwhene...</td>\n",
              "      <td>['Your art is adorable, congratulations on win...</td>\n",
              "    </tr>\n",
              "  </tbody>\n",
              "</table>\n",
              "</div>"
            ],
            "text/plain": [
              "                                          Title  ...                                           Comments\n",
              "0       July COMICS CHALLENGE - Get Stuff Done!  ...  [\"Hi, I'm Gabriella. For this July Comics Chal...\n",
              "1     March Comic Madness Contest Final Results  ...  [\"Congrats to everyone and thank you so very m...\n",
              "2        YOUR COMIC HERE! 1 page per day thread  ...  ['Let me start this off:\\nAcroalis-1\\n\\nacroal...\n",
              "3  Draw Panel in your Style Event with a PRIZE!  ...  [\"This is so fun Count me in BTW how to enter ...\n",
              "4                   I won the pride contest yay  ...  ['Your art is adorable, congratulations on win...\n",
              "\n",
              "[5 rows x 8 columns]"
            ]
          },
          "metadata": {
            "tags": []
          },
          "execution_count": 45
        }
      ]
    },
    {
      "cell_type": "code",
      "metadata": {
        "id": "msvf4gcqXSnS"
      },
      "source": [
        "data[\"Num Replies\"] = data[\"Num Replies\"].apply(lambda x: str(int(float(x.replace(\"k\",\"\"))*1000)) if \"k\" in x else x)\n",
        "data.head()"
      ],
      "execution_count": null,
      "outputs": []
    },
    {
      "cell_type": "code",
      "metadata": {
        "colab": {
          "base_uri": "https://localhost:8080/",
          "height": 338
        },
        "id": "Ve1Wq9FGcgmG",
        "outputId": "cc1cfeda-e335-4342-dd37-8b3c48ad199e"
      },
      "source": [
        "train[\"Likes\"] = train[\"Likes\"].apply(lambda x: x.replace(\" Like\", \"\"))\n",
        "train.head()"
      ],
      "execution_count": null,
      "outputs": [
        {
          "output_type": "execute_result",
          "data": {
            "text/html": [
              "<div>\n",
              "<style scoped>\n",
              "    .dataframe tbody tr th:only-of-type {\n",
              "        vertical-align: middle;\n",
              "    }\n",
              "\n",
              "    .dataframe tbody tr th {\n",
              "        vertical-align: top;\n",
              "    }\n",
              "\n",
              "    .dataframe thead th {\n",
              "        text-align: right;\n",
              "    }\n",
              "</style>\n",
              "<table border=\"1\" class=\"dataframe\">\n",
              "  <thead>\n",
              "    <tr style=\"text-align: right;\">\n",
              "      <th></th>\n",
              "      <th>Title</th>\n",
              "      <th>Category</th>\n",
              "      <th>Date</th>\n",
              "      <th>Likes</th>\n",
              "      <th>Num Replies</th>\n",
              "      <th>Num Views</th>\n",
              "      <th>Original Post</th>\n",
              "      <th>Comments</th>\n",
              "    </tr>\n",
              "  </thead>\n",
              "  <tbody>\n",
              "    <tr>\n",
              "      <th>0</th>\n",
              "      <td>July COMICS CHALLENGE - Get Stuff Done!</td>\n",
              "      <td>Events | Challenges</td>\n",
              "      <td>Jun 28, 2021 12:49 pm</td>\n",
              "      <td>24</td>\n",
              "      <td>300</td>\n",
              "      <td>1700</td>\n",
              "      <td>Some days you just don't work on your comic, e...</td>\n",
              "      <td>[\"Hi, I'm Gabriella. For this July Comics Chal...</td>\n",
              "    </tr>\n",
              "    <tr>\n",
              "      <th>1</th>\n",
              "      <td>March Comic Madness Contest Final Results</td>\n",
              "      <td>Events | Challenges</td>\n",
              "      <td>Jul 20, 2021 7:31 am</td>\n",
              "      <td>20</td>\n",
              "      <td>13</td>\n",
              "      <td>149</td>\n",
              "      <td>Hooray! \\nThe March Comic Madness Contest has ...</td>\n",
              "      <td>[\"Congrats to everyone and thank you so very m...</td>\n",
              "    </tr>\n",
              "    <tr>\n",
              "      <th>2</th>\n",
              "      <td>YOUR COMIC HERE! 1 page per day thread</td>\n",
              "      <td>Events | Challenges</td>\n",
              "      <td>Apr 5, 2020 2:21 pm</td>\n",
              "      <td>7</td>\n",
              "      <td>680</td>\n",
              "      <td>7600</td>\n",
              "      <td>As simple as it sounds! Start with your very f...</td>\n",
              "      <td>['Let me start this off:\\nAcroalis-1\\n\\nacroal...</td>\n",
              "    </tr>\n",
              "    <tr>\n",
              "      <th>3</th>\n",
              "      <td>Draw Panel in your Style Event with a PRIZE!</td>\n",
              "      <td>Events | Challenges</td>\n",
              "      <td>Jul 4, 2021 4:23 am</td>\n",
              "      <td>6</td>\n",
              "      <td>4</td>\n",
              "      <td>129</td>\n",
              "      <td>Hi, I haven't done this before. But I wanted t...</td>\n",
              "      <td>[\"This is so fun Count me in BTW how to enter ...</td>\n",
              "    </tr>\n",
              "    <tr>\n",
              "      <th>4</th>\n",
              "      <td>I won the pride contest yay</td>\n",
              "      <td>Events | Challenges</td>\n",
              "      <td>Jun 25, 2021 5:00 pm</td>\n",
              "      <td>30</td>\n",
              "      <td>13</td>\n",
              "      <td>217</td>\n",
              "      <td>yay  https://tapas.io/episode/220082625\\nwhene...</td>\n",
              "      <td>['Your art is adorable, congratulations on win...</td>\n",
              "    </tr>\n",
              "  </tbody>\n",
              "</table>\n",
              "</div>"
            ],
            "text/plain": [
              "                                          Title  ...                                           Comments\n",
              "0       July COMICS CHALLENGE - Get Stuff Done!  ...  [\"Hi, I'm Gabriella. For this July Comics Chal...\n",
              "1     March Comic Madness Contest Final Results  ...  [\"Congrats to everyone and thank you so very m...\n",
              "2        YOUR COMIC HERE! 1 page per day thread  ...  ['Let me start this off:\\nAcroalis-1\\n\\nacroal...\n",
              "3  Draw Panel in your Style Event with a PRIZE!  ...  [\"This is so fun Count me in BTW how to enter ...\n",
              "4                   I won the pride contest yay  ...  ['Your art is adorable, congratulations on win...\n",
              "\n",
              "[5 rows x 8 columns]"
            ]
          },
          "metadata": {
            "tags": []
          },
          "execution_count": 46
        }
      ]
    },
    {
      "cell_type": "code",
      "metadata": {
        "colab": {
          "base_uri": "https://localhost:8080/"
        },
        "id": "v7AQfUH7dpBr",
        "outputId": "40148eff-95ee-4f83-c2af-c98caca04504"
      },
      "source": [
        "grouping = train.groupby(\"Category\")\n",
        "print(grouping.size())"
      ],
      "execution_count": null,
      "outputs": [
        {
          "output_type": "stream",
          "text": [
            "Category\n",
            "Art | Comics                    1006\n",
            "Collaborations                   839\n",
            "Events | Challenges              619\n",
            "Off Topic                       1005\n",
            "Promotions                       977\n",
            "Questions                       1027\n",
            "Reviews | Feedback               677\n",
            "Tech Support | Site Feedback     953\n",
            "Writing | Novels                 999\n",
            "dtype: int64\n"
          ],
          "name": "stdout"
        }
      ]
    },
    {
      "cell_type": "code",
      "metadata": {
        "colab": {
          "base_uri": "https://localhost:8080/",
          "height": 430
        },
        "id": "hTWFQH6-dq-r",
        "outputId": "319f86c0-5273-4076-805c-6285d47ed998"
      },
      "source": [
        "train.groupby([\"Category\"]).size().plot.bar()"
      ],
      "execution_count": null,
      "outputs": [
        {
          "output_type": "execute_result",
          "data": {
            "text/plain": [
              "<matplotlib.axes._subplots.AxesSubplot at 0x7f7f4b441490>"
            ]
          },
          "metadata": {
            "tags": []
          },
          "execution_count": 48
        },
        {
          "output_type": "display_data",
          "data": {
            "image/png": "[encoded data removed]",
            "text/plain": [
              "<Figure size 432x288 with 1 Axes>"
            ]
          },
          "metadata": {
            "tags": [],
            "needs_background": "light"
          }
        }
      ]
    },
    {
      "cell_type": "code",
      "metadata": {
        "colab": {
          "base_uri": "https://localhost:8080/",
          "height": 137
        },
        "id": "ugIcQGa1h8hX",
        "outputId": "83eba5e9-1a34-471c-ff77-bd80543bc72c"
      },
      "source": [
        "train[\"Original Post\"][2]"
      ],
      "execution_count": null,
      "outputs": [
        {
          "output_type": "execute_result",
          "data": {
            "application/vnd.google.colaboratory.intrinsic+json": {
              "type": "string"
            },
            "text/plain": [
              "'As simple as it sounds! Start with your very first page, and everyday upload the next strip on your story. ((VISUAL COMICS ONLY)). There will be a few rules to help grow comics posted here, \\n   -Don\\'t press the reply button to this original post but rather on the pages itself.    -You can not update your pages on the same post. (Think how much people would have to scroll down to find something to comment on xD).   -You must read the page of a least 3 people per day and comment on it. Comments can be as short or as long as youwish.   -You are allowed to stick with the same 3 comics or keep changing it. Just go for the ones you like basically. Commenting on more than 3 is allowed, as long as you like the page.   -Only consider subbing to your 3 choices if you really really like the series you commented on   -The rules apply to myself (Thought I\\'m liked to comment on more since I made thread)   -Just because I made the thread dosen\\'t mean you have to comment on my pages.\\nThe format of your post must be as follows:\\n\"COMIC NAME\" \"NUMBER OF TIMES YOU UPDATED DAILY IN HERE\" -to let people know how dedicated you are\\n\"PAGE ITSELF\"\\n\"NAME OF COMICS YOU COMMENTED ON\" As proof that you have done it\\n\"COMIC LINK\" In case they want to sub\\nSo using my comic as an example would be \\nAcroalis-12\\n\\nacroalis-page-7.jpg940x1253 620 KB\\n\\n\\n\\ntapas.io17\\n\\n\\n\\nAcroalis | Tapas\\nAcroalis is a fantasy world in which everyone has been living peacefully. that is, until two meteors landed.\\n  the people of Acroalis ignored them, thinking them of a normal phenomena, but little do they know the meteors\\n   contained a powerful...\\n\\n\\n\\n\\n\\nAnd on the following day I would change it to Acroalis-13 and the corresponding page'"
            ]
          },
          "metadata": {
            "tags": []
          },
          "execution_count": 51
        }
      ]
    },
    {
      "cell_type": "code",
      "metadata": {
        "colab": {
          "base_uri": "https://localhost:8080/",
          "height": 304
        },
        "id": "fyCyfPhIavLN",
        "outputId": "d6c001b7-8706-4709-b224-34d44ce72d4e"
      },
      "source": [
        "train[\"Title\"] = train[\"Title\"].apply(lambda x: str(x).replace(\"\\n\", \" \"))\n",
        "train[\"Original Post\"] = train[\"Original Post\"].apply(lambda x: str(x).replace(\"\\n\", \" \"))\n",
        "train[\"Comments\"] = train[\"Comments\"].apply(lambda x: str(x).replace(\"\\n\", \" \"))\n",
        "train.head()"
      ],
      "execution_count": null,
      "outputs": [
        {
          "output_type": "execute_result",
          "data": {
            "text/html": [
              "<div>\n",
              "<style scoped>\n",
              "    .dataframe tbody tr th:only-of-type {\n",
              "        vertical-align: middle;\n",
              "    }\n",
              "\n",
              "    .dataframe tbody tr th {\n",
              "        vertical-align: top;\n",
              "    }\n",
              "\n",
              "    .dataframe thead th {\n",
              "        text-align: right;\n",
              "    }\n",
              "</style>\n",
              "<table border=\"1\" class=\"dataframe\">\n",
              "  <thead>\n",
              "    <tr style=\"text-align: right;\">\n",
              "      <th></th>\n",
              "      <th>Title</th>\n",
              "      <th>Category</th>\n",
              "      <th>Date</th>\n",
              "      <th>Likes</th>\n",
              "      <th>Num Replies</th>\n",
              "      <th>Num Views</th>\n",
              "      <th>Original Post</th>\n",
              "      <th>Comments</th>\n",
              "    </tr>\n",
              "  </thead>\n",
              "  <tbody>\n",
              "    <tr>\n",
              "      <th>0</th>\n",
              "      <td>July COMICS CHALLENGE - Get Stuff Done!</td>\n",
              "      <td>Events | Challenges</td>\n",
              "      <td>Jun 28, 2021 12:49 pm</td>\n",
              "      <td>24</td>\n",
              "      <td>300</td>\n",
              "      <td>1700</td>\n",
              "      <td>Some days you just don't work on your comic, e...</td>\n",
              "      <td>[\"Hi, I'm Gabriella. For this July Comics Chal...</td>\n",
              "    </tr>\n",
              "    <tr>\n",
              "      <th>1</th>\n",
              "      <td>March Comic Madness Contest Final Results</td>\n",
              "      <td>Events | Challenges</td>\n",
              "      <td>Jul 20, 2021 7:31 am</td>\n",
              "      <td>20</td>\n",
              "      <td>13</td>\n",
              "      <td>149</td>\n",
              "      <td>Hooray!  The March Comic Madness Contest has c...</td>\n",
              "      <td>[\"Congrats to everyone and thank you so very m...</td>\n",
              "    </tr>\n",
              "    <tr>\n",
              "      <th>2</th>\n",
              "      <td>YOUR COMIC HERE! 1 page per day thread</td>\n",
              "      <td>Events | Challenges</td>\n",
              "      <td>Apr 5, 2020 2:21 pm</td>\n",
              "      <td>7</td>\n",
              "      <td>680</td>\n",
              "      <td>7600</td>\n",
              "      <td>As simple as it sounds! Start with your very f...</td>\n",
              "      <td>['Let me start this off:\\nAcroalis-1\\n\\nacroal...</td>\n",
              "    </tr>\n",
              "    <tr>\n",
              "      <th>3</th>\n",
              "      <td>Draw Panel in your Style Event with a PRIZE!</td>\n",
              "      <td>Events | Challenges</td>\n",
              "      <td>Jul 4, 2021 4:23 am</td>\n",
              "      <td>6</td>\n",
              "      <td>4</td>\n",
              "      <td>129</td>\n",
              "      <td>Hi, I haven't done this before. But I wanted t...</td>\n",
              "      <td>[\"This is so fun Count me in BTW how to enter ...</td>\n",
              "    </tr>\n",
              "    <tr>\n",
              "      <th>4</th>\n",
              "      <td>I won the pride contest yay</td>\n",
              "      <td>Events | Challenges</td>\n",
              "      <td>Jun 25, 2021 5:00 pm</td>\n",
              "      <td>30</td>\n",
              "      <td>13</td>\n",
              "      <td>217</td>\n",
              "      <td>yay  https://tapas.io/episode/220082625 whenev...</td>\n",
              "      <td>['Your art is adorable, congratulations on win...</td>\n",
              "    </tr>\n",
              "  </tbody>\n",
              "</table>\n",
              "</div>"
            ],
            "text/plain": [
              "                                          Title  ...                                           Comments\n",
              "0       July COMICS CHALLENGE - Get Stuff Done!  ...  [\"Hi, I'm Gabriella. For this July Comics Chal...\n",
              "1     March Comic Madness Contest Final Results  ...  [\"Congrats to everyone and thank you so very m...\n",
              "2        YOUR COMIC HERE! 1 page per day thread  ...  ['Let me start this off:\\nAcroalis-1\\n\\nacroal...\n",
              "3  Draw Panel in your Style Event with a PRIZE!  ...  [\"This is so fun Count me in BTW how to enter ...\n",
              "4                   I won the pride contest yay  ...  ['Your art is adorable, congratulations on win...\n",
              "\n",
              "[5 rows x 8 columns]"
            ]
          },
          "metadata": {
            "tags": []
          },
          "execution_count": 52
        }
      ]
    },
    {
      "cell_type": "code",
      "metadata": {
        "colab": {
          "base_uri": "https://localhost:8080/",
          "height": 137
        },
        "id": "eBAzWSjzcro4",
        "outputId": "e30946e9-11fe-4dec-8b48-224bb017fc9c"
      },
      "source": [
        "train[\"Comments\"][2]"
      ],
      "execution_count": null,
      "outputs": [
        {
          "output_type": "execute_result",
          "data": {
            "application/vnd.google.colaboratory.intrinsic+json": {
              "type": "string"
            },
            "text/plain": [
              "'[\\'Let me start this off:\\\\nAcroalis-1\\\\n\\\\nacroalis-page-1.jpg940x1253 585 KB\\\\n\\\\n\\\\n\\\\ntapas.io\\\\n\\\\n\\\\n\\\\nAcroalis | Tapas\\\\nAcroalis is a fantasy world in which everyone has been living peacefully. that is, until two meteors landed.\\\\n  the people of Acroalis ignored them, thinking them of a normal phenomena, but little do they know the meteors\\\\n   contained a powerful...\\\\n\\\\n\\\\n\\\\n\\\\n\\\\nWill be waiting to check and comment your pages.\\', \"LOSTLAND-1\\\\n\\\\n\\\\ntapas.io9\\\\n\\\\n\\\\n\\\\nLOSTLAND :: Hello, Dear Listeners.... | Tapas\\\\nHappy 8th Anniversary, by the way! Yes, The Lostland has been running since 2011 on this exact day, so how best to celebrate than with a fresh, new start on a long running series?\\\\n\\\\nYou can find the old one here, but don\\'t expect spoilers! A lot has...\", \\'My comment will be that I count help but sub and read your whole thing thus far. Very interesting wasland world. Well you got my attention now. Jut post it here each day and good luck getting others interested xD.\\', \\'ACROALIS-2\\\\n\\\\nacroalis-page-2.jpg940x1253 873 KB\\\\n\\\\n\\\\ntapas.io\\\\n\\\\n\\\\n\\\\nAcroalis :: Prologue (remake) | Tapas\\\\nTime to reborn anew\\', \\'I love the architecture of the buildings! Very unique. And Moko is such a cool name for a town.\\', \\'Otterly Human - 1\\\\nAntarctica.jpg818x818 273 KB\\\\n\\\\n\\\\ntapas.io4\\\\n\\\\n\\\\n\\\\nOtterly Human | Tapas\\\\nOtterly absurd comics\\', \"Whoops! I commented on the page, but I\\'ll put it here:You show a very good use of tone values in these pages so far! Keep it going!\", \"You\\'re welcome, great idea with this thread!\", \\'Haha lol, that is a weird climate indeed. Like the characters design. Is that a turtle and a rat? Either way will be interesting seeing the continuation from this tomorrow.\\', \"Close, it\\'s a turtle and a fox!\", \\'Ok updated the rules to make the thread a little cleaner so there is more pages to scroll down than reading comments and comment replies like these. So every 5 pages uploaded, delete 3 of your comments. That way people can scroll down and see pages rather than lots and lots of comments and replies. Hows that sound fare? want your opinion on this\\', \\'ACROALIS-3\\\\n\\\\n\\\\ntapas.io\\\\n\\\\n\\\\n\\\\nAcroalis | Tapas\\\\nAcroalis is a fantasy world in which everyone has been living peacefully. that is, until two meteors landed.\\\\n  the people of Acroalis ignored them, thinking them of a normal phenomena, but little do they know the meteors\\\\n   contained a powerful...\\\\n\\\\n\\\\n\\\\n\\\\n\\\\n\\\\nacroalis-page-3.jpg940x1319 837 KB\\', \\'IMG_0463.jpg812x2048 330 KB\\', \\'I forgot about making an april fools comic so I made this!\\\\nttr27.png900x1000 112 KB\\', \\'Oh snap, a creepy one. Interesting premise so far\\', \\'Ha! lol, appropriate for in or outside april fools\\', \"Nice use of the scrolling format here! Text leads to image and finally leading to the bottom panel, it\\'s done pretty effectively here\", \"I missed yours the last time, so getting back to it! I like the very classic cartoon-y style of your characters @juniorguilherme340  During the fight with the giant sandworm, it\\'s great seeing you draw some complex camera angles in that scene, especially when the two characters charge in to fight!@waweezer3 As a creator who\\'s always late to the Holiday art party, I feel this one\", \"LOSTLAND - 2\\\\n\\\\ntapas.io\\\\n\\\\n\\\\n\\\\nLOSTLAND :: Welcome Back to Our Crazy Tale.... | Tapas\\\\nSo, you guys ready for the holiday season? I\\'ve got gifts bought, wrapped, and ready to go!\\\\n.... I also work on the holiday, so slight bummer. Holiday pay is very OP though, but if you\\'ve got the opportunity to spend the day with family, spend it!!...\\\\n\\\\n\\\\n\\\\n\\\\n\\\\n\\\\n\\\\npg1.1.jpg800x1127 460 KB\"]'"
            ]
          },
          "metadata": {
            "tags": []
          },
          "execution_count": 54
        }
      ]
    },
    {
      "cell_type": "code",
      "metadata": {
        "colab": {
          "base_uri": "https://localhost:8080/",
          "height": 304
        },
        "id": "j8PGprz8OOfQ",
        "outputId": "6b59a4cf-3556-4d0a-e682-956aa8797053"
      },
      "source": [
        "train[\"Title\"] = train[\"Title\"].apply(lambda x: re.sub(r'http\\S+', '', str(x)))\n",
        "train[\"Original Post\"] = train[\"Original Post\"].apply(lambda x: re.sub(r'http\\S+', '', str(x)))\n",
        "train[\"Comments\"] = train[\"Comments\"].apply(lambda x: re.sub(r'http\\S+', '', str(x)))\n",
        "train.head()"
      ],
      "execution_count": null,
      "outputs": [
        {
          "output_type": "execute_result",
          "data": {
            "text/html": [
              "<div>\n",
              "<style scoped>\n",
              "    .dataframe tbody tr th:only-of-type {\n",
              "        vertical-align: middle;\n",
              "    }\n",
              "\n",
              "    .dataframe tbody tr th {\n",
              "        vertical-align: top;\n",
              "    }\n",
              "\n",
              "    .dataframe thead th {\n",
              "        text-align: right;\n",
              "    }\n",
              "</style>\n",
              "<table border=\"1\" class=\"dataframe\">\n",
              "  <thead>\n",
              "    <tr style=\"text-align: right;\">\n",
              "      <th></th>\n",
              "      <th>Title</th>\n",
              "      <th>Category</th>\n",
              "      <th>Date</th>\n",
              "      <th>Likes</th>\n",
              "      <th>Num Replies</th>\n",
              "      <th>Num Views</th>\n",
              "      <th>Original Post</th>\n",
              "      <th>Comments</th>\n",
              "    </tr>\n",
              "  </thead>\n",
              "  <tbody>\n",
              "    <tr>\n",
              "      <th>0</th>\n",
              "      <td>July COMICS CHALLENGE - Get Stuff Done!</td>\n",
              "      <td>Events | Challenges</td>\n",
              "      <td>Jun 28, 2021 12:49 pm</td>\n",
              "      <td>24</td>\n",
              "      <td>300</td>\n",
              "      <td>1700</td>\n",
              "      <td>Some days you just don't work on your comic, e...</td>\n",
              "      <td>[\"Hi, I'm Gabriella. For this July Comics Chal...</td>\n",
              "    </tr>\n",
              "    <tr>\n",
              "      <th>1</th>\n",
              "      <td>March Comic Madness Contest Final Results</td>\n",
              "      <td>Events | Challenges</td>\n",
              "      <td>Jul 20, 2021 7:31 am</td>\n",
              "      <td>20</td>\n",
              "      <td>13</td>\n",
              "      <td>149</td>\n",
              "      <td>Hooray!  The March Comic Madness Contest has c...</td>\n",
              "      <td>[\"Congrats to everyone and thank you so very m...</td>\n",
              "    </tr>\n",
              "    <tr>\n",
              "      <th>2</th>\n",
              "      <td>YOUR COMIC HERE! 1 page per day thread</td>\n",
              "      <td>Events | Challenges</td>\n",
              "      <td>Apr 5, 2020 2:21 pm</td>\n",
              "      <td>7</td>\n",
              "      <td>680</td>\n",
              "      <td>7600</td>\n",
              "      <td>As simple as it sounds! Start with your very f...</td>\n",
              "      <td>['Let me start this off:\\nAcroalis-1\\n\\nacroal...</td>\n",
              "    </tr>\n",
              "    <tr>\n",
              "      <th>3</th>\n",
              "      <td>Draw Panel in your Style Event with a PRIZE!</td>\n",
              "      <td>Events | Challenges</td>\n",
              "      <td>Jul 4, 2021 4:23 am</td>\n",
              "      <td>6</td>\n",
              "      <td>4</td>\n",
              "      <td>129</td>\n",
              "      <td>Hi, I haven't done this before. But I wanted t...</td>\n",
              "      <td>[\"This is so fun Count me in BTW how to enter ...</td>\n",
              "    </tr>\n",
              "    <tr>\n",
              "      <th>4</th>\n",
              "      <td>I won the pride contest yay</td>\n",
              "      <td>Events | Challenges</td>\n",
              "      <td>Jun 25, 2021 5:00 pm</td>\n",
              "      <td>30</td>\n",
              "      <td>13</td>\n",
              "      <td>217</td>\n",
              "      <td>yay   whenever I enter a contest I immediately...</td>\n",
              "      <td>['Your art is adorable, congratulations on win...</td>\n",
              "    </tr>\n",
              "  </tbody>\n",
              "</table>\n",
              "</div>"
            ],
            "text/plain": [
              "                                          Title  ...                                           Comments\n",
              "0       July COMICS CHALLENGE - Get Stuff Done!  ...  [\"Hi, I'm Gabriella. For this July Comics Chal...\n",
              "1     March Comic Madness Contest Final Results  ...  [\"Congrats to everyone and thank you so very m...\n",
              "2        YOUR COMIC HERE! 1 page per day thread  ...  ['Let me start this off:\\nAcroalis-1\\n\\nacroal...\n",
              "3  Draw Panel in your Style Event with a PRIZE!  ...  [\"This is so fun Count me in BTW how to enter ...\n",
              "4                   I won the pride contest yay  ...  ['Your art is adorable, congratulations on win...\n",
              "\n",
              "[5 rows x 8 columns]"
            ]
          },
          "metadata": {
            "tags": []
          },
          "execution_count": 55
        }
      ]
    },
    {
      "cell_type": "code",
      "metadata": {
        "colab": {
          "base_uri": "https://localhost:8080/",
          "height": 137
        },
        "id": "NCvde-uWdBvd",
        "outputId": "9647a07d-4341-4e6b-ca8b-7aaabfa39d60"
      },
      "source": [
        "train[\"Comments\"][2]"
      ],
      "execution_count": null,
      "outputs": [
        {
          "output_type": "execute_result",
          "data": {
            "application/vnd.google.colaboratory.intrinsic+json": {
              "type": "string"
            },
            "text/plain": [
              "'[\\'Let me start this off:\\\\nAcroalis-1\\\\n\\\\nacroalis-page-1.jpg940x1253 585 KB\\\\n\\\\n\\\\n\\\\ntapas.io\\\\n\\\\n\\\\n\\\\nAcroalis | Tapas\\\\nAcroalis is a fantasy world in which everyone has been living peacefully. that is, until two meteors landed.\\\\n  the people of Acroalis ignored them, thinking them of a normal phenomena, but little do they know the meteors\\\\n   contained a powerful...\\\\n\\\\n\\\\n\\\\n\\\\n\\\\nWill be waiting to check and comment your pages.\\', \"LOSTLAND-1\\\\n\\\\n\\\\ntapas.io9\\\\n\\\\n\\\\n\\\\nLOSTLAND :: Hello, Dear Listeners.... | Tapas\\\\nHappy 8th Anniversary, by the way! Yes, The Lostland has been running since 2011 on this exact day, so how best to celebrate than with a fresh, new start on a long running series?\\\\n\\\\nYou can find the old one here, but don\\'t expect spoilers! A lot has...\", \\'My comment will be that I count help but sub and read your whole thing thus far. Very interesting wasland world. Well you got my attention now. Jut post it here each day and good luck getting others interested xD.\\', \\'ACROALIS-2\\\\n\\\\nacroalis-page-2.jpg940x1253 873 KB\\\\n\\\\n\\\\ntapas.io\\\\n\\\\n\\\\n\\\\nAcroalis :: Prologue (remake) | Tapas\\\\nTime to reborn anew\\', \\'I love the architecture of the buildings! Very unique. And Moko is such a cool name for a town.\\', \\'Otterly Human - 1\\\\nAntarctica.jpg818x818 273 KB\\\\n\\\\n\\\\ntapas.io4\\\\n\\\\n\\\\n\\\\nOtterly Human | Tapas\\\\nOtterly absurd comics\\', \"Whoops! I commented on the page, but I\\'ll put it here:You show a very good use of tone values in these pages so far! Keep it going!\", \"You\\'re welcome, great idea with this thread!\", \\'Haha lol, that is a weird climate indeed. Like the characters design. Is that a turtle and a rat? Either way will be interesting seeing the continuation from this tomorrow.\\', \"Close, it\\'s a turtle and a fox!\", \\'Ok updated the rules to make the thread a little cleaner so there is more pages to scroll down than reading comments and comment replies like these. So every 5 pages uploaded, delete 3 of your comments. That way people can scroll down and see pages rather than lots and lots of comments and replies. Hows that sound fare? want your opinion on this\\', \\'ACROALIS-3\\\\n\\\\n\\\\ntapas.io\\\\n\\\\n\\\\n\\\\nAcroalis | Tapas\\\\nAcroalis is a fantasy world in which everyone has been living peacefully. that is, until two meteors landed.\\\\n  the people of Acroalis ignored them, thinking them of a normal phenomena, but little do they know the meteors\\\\n   contained a powerful...\\\\n\\\\n\\\\n\\\\n\\\\n\\\\n\\\\nacroalis-page-3.jpg940x1319 837 KB\\', \\'IMG_0463.jpg812x2048 330 KB\\', \\'I forgot about making an april fools comic so I made this!\\\\nttr27.png900x1000 112 KB\\', \\'Oh snap, a creepy one. Interesting premise so far\\', \\'Ha! lol, appropriate for in or outside april fools\\', \"Nice use of the scrolling format here! Text leads to image and finally leading to the bottom panel, it\\'s done pretty effectively here\", \"I missed yours the last time, so getting back to it! I like the very classic cartoon-y style of your characters @juniorguilherme340  During the fight with the giant sandworm, it\\'s great seeing you draw some complex camera angles in that scene, especially when the two characters charge in to fight!@waweezer3 As a creator who\\'s always late to the Holiday art party, I feel this one\", \"LOSTLAND - 2\\\\n\\\\ntapas.io\\\\n\\\\n\\\\n\\\\nLOSTLAND :: Welcome Back to Our Crazy Tale.... | Tapas\\\\nSo, you guys ready for the holiday season? I\\'ve got gifts bought, wrapped, and ready to go!\\\\n.... I also work on the holiday, so slight bummer. Holiday pay is very OP though, but if you\\'ve got the opportunity to spend the day with family, spend it!!...\\\\n\\\\n\\\\n\\\\n\\\\n\\\\n\\\\n\\\\npg1.1.jpg800x1127 460 KB\"]'"
            ]
          },
          "metadata": {
            "tags": []
          },
          "execution_count": 56
        }
      ]
    },
    {
      "cell_type": "code",
      "metadata": {
        "colab": {
          "base_uri": "https://localhost:8080/",
          "height": 304
        },
        "id": "PJEaZCKtf15N",
        "outputId": "cba2601c-8bcb-4ad7-c011-7ce877d7188d"
      },
      "source": [
        "train[\"Title\"] = train[\"Title\"].apply(lambda x: str(x).replace(\"\\\\n\", \" \"))\n",
        "train[\"Original Post\"] = train[\"Original Post\"].apply(lambda x: str(x).replace(\"\\\\n\", \" \"))\n",
        "train[\"Comments\"] = train[\"Comments\"].apply(lambda x: str(x).replace(\"\\\\n\", \" \"))\n",
        "train.head()"
      ],
      "execution_count": null,
      "outputs": [
        {
          "output_type": "execute_result",
          "data": {
            "text/html": [
              "<div>\n",
              "<style scoped>\n",
              "    .dataframe tbody tr th:only-of-type {\n",
              "        vertical-align: middle;\n",
              "    }\n",
              "\n",
              "    .dataframe tbody tr th {\n",
              "        vertical-align: top;\n",
              "    }\n",
              "\n",
              "    .dataframe thead th {\n",
              "        text-align: right;\n",
              "    }\n",
              "</style>\n",
              "<table border=\"1\" class=\"dataframe\">\n",
              "  <thead>\n",
              "    <tr style=\"text-align: right;\">\n",
              "      <th></th>\n",
              "      <th>Title</th>\n",
              "      <th>Category</th>\n",
              "      <th>Date</th>\n",
              "      <th>Likes</th>\n",
              "      <th>Num Replies</th>\n",
              "      <th>Num Views</th>\n",
              "      <th>Original Post</th>\n",
              "      <th>Comments</th>\n",
              "    </tr>\n",
              "  </thead>\n",
              "  <tbody>\n",
              "    <tr>\n",
              "      <th>0</th>\n",
              "      <td>July COMICS CHALLENGE - Get Stuff Done!</td>\n",
              "      <td>Events | Challenges</td>\n",
              "      <td>Jun 28, 2021 12:49 pm</td>\n",
              "      <td>24</td>\n",
              "      <td>300</td>\n",
              "      <td>1700</td>\n",
              "      <td>Some days you just don't work on your comic, e...</td>\n",
              "      <td>[\"Hi, I'm Gabriella. For this July Comics Chal...</td>\n",
              "    </tr>\n",
              "    <tr>\n",
              "      <th>1</th>\n",
              "      <td>March Comic Madness Contest Final Results</td>\n",
              "      <td>Events | Challenges</td>\n",
              "      <td>Jul 20, 2021 7:31 am</td>\n",
              "      <td>20</td>\n",
              "      <td>13</td>\n",
              "      <td>149</td>\n",
              "      <td>Hooray!  The March Comic Madness Contest has c...</td>\n",
              "      <td>[\"Congrats to everyone and thank you so very m...</td>\n",
              "    </tr>\n",
              "    <tr>\n",
              "      <th>2</th>\n",
              "      <td>YOUR COMIC HERE! 1 page per day thread</td>\n",
              "      <td>Events | Challenges</td>\n",
              "      <td>Apr 5, 2020 2:21 pm</td>\n",
              "      <td>7</td>\n",
              "      <td>680</td>\n",
              "      <td>7600</td>\n",
              "      <td>As simple as it sounds! Start with your very f...</td>\n",
              "      <td>['Let me start this off: Acroalis-1  acroalis-...</td>\n",
              "    </tr>\n",
              "    <tr>\n",
              "      <th>3</th>\n",
              "      <td>Draw Panel in your Style Event with a PRIZE!</td>\n",
              "      <td>Events | Challenges</td>\n",
              "      <td>Jul 4, 2021 4:23 am</td>\n",
              "      <td>6</td>\n",
              "      <td>4</td>\n",
              "      <td>129</td>\n",
              "      <td>Hi, I haven't done this before. But I wanted t...</td>\n",
              "      <td>[\"This is so fun Count me in BTW how to enter ...</td>\n",
              "    </tr>\n",
              "    <tr>\n",
              "      <th>4</th>\n",
              "      <td>I won the pride contest yay</td>\n",
              "      <td>Events | Challenges</td>\n",
              "      <td>Jun 25, 2021 5:00 pm</td>\n",
              "      <td>30</td>\n",
              "      <td>13</td>\n",
              "      <td>217</td>\n",
              "      <td>yay   whenever I enter a contest I immediately...</td>\n",
              "      <td>['Your art is adorable, congratulations on win...</td>\n",
              "    </tr>\n",
              "  </tbody>\n",
              "</table>\n",
              "</div>"
            ],
            "text/plain": [
              "                                          Title  ...                                           Comments\n",
              "0       July COMICS CHALLENGE - Get Stuff Done!  ...  [\"Hi, I'm Gabriella. For this July Comics Chal...\n",
              "1     March Comic Madness Contest Final Results  ...  [\"Congrats to everyone and thank you so very m...\n",
              "2        YOUR COMIC HERE! 1 page per day thread  ...  ['Let me start this off: Acroalis-1  acroalis-...\n",
              "3  Draw Panel in your Style Event with a PRIZE!  ...  [\"This is so fun Count me in BTW how to enter ...\n",
              "4                   I won the pride contest yay  ...  ['Your art is adorable, congratulations on win...\n",
              "\n",
              "[5 rows x 8 columns]"
            ]
          },
          "metadata": {
            "tags": []
          },
          "execution_count": 57
        }
      ]
    },
    {
      "cell_type": "code",
      "metadata": {
        "colab": {
          "base_uri": "https://localhost:8080/",
          "height": 137
        },
        "id": "0GWjxUwYgFAZ",
        "outputId": "bf26b977-721c-4bba-e3f6-b02211204178"
      },
      "source": [
        "train[\"Comments\"][2]"
      ],
      "execution_count": null,
      "outputs": [
        {
          "output_type": "execute_result",
          "data": {
            "application/vnd.google.colaboratory.intrinsic+json": {
              "type": "string"
            },
            "text/plain": [
              "'[\\'Let me start this off: Acroalis-1  acroalis-page-1.jpg940x1253 585 KB    tapas.io    Acroalis | Tapas Acroalis is a fantasy world in which everyone has been living peacefully. that is, until two meteors landed.   the people of Acroalis ignored them, thinking them of a normal phenomena, but little do they know the meteors    contained a powerful...      Will be waiting to check and comment your pages.\\', \"LOSTLAND-1   tapas.io9    LOSTLAND :: Hello, Dear Listeners.... | Tapas Happy 8th Anniversary, by the way! Yes, The Lostland has been running since 2011 on this exact day, so how best to celebrate than with a fresh, new start on a long running series?  You can find the old one here, but don\\'t expect spoilers! A lot has...\", \\'My comment will be that I count help but sub and read your whole thing thus far. Very interesting wasland world. Well you got my attention now. Jut post it here each day and good luck getting others interested xD.\\', \\'ACROALIS-2  acroalis-page-2.jpg940x1253 873 KB   tapas.io    Acroalis :: Prologue (remake) | Tapas Time to reborn anew\\', \\'I love the architecture of the buildings! Very unique. And Moko is such a cool name for a town.\\', \\'Otterly Human - 1 Antarctica.jpg818x818 273 KB   tapas.io4    Otterly Human | Tapas Otterly absurd comics\\', \"Whoops! I commented on the page, but I\\'ll put it here:You show a very good use of tone values in these pages so far! Keep it going!\", \"You\\'re welcome, great idea with this thread!\", \\'Haha lol, that is a weird climate indeed. Like the characters design. Is that a turtle and a rat? Either way will be interesting seeing the continuation from this tomorrow.\\', \"Close, it\\'s a turtle and a fox!\", \\'Ok updated the rules to make the thread a little cleaner so there is more pages to scroll down than reading comments and comment replies like these. So every 5 pages uploaded, delete 3 of your comments. That way people can scroll down and see pages rather than lots and lots of comments and replies. Hows that sound fare? want your opinion on this\\', \\'ACROALIS-3   tapas.io    Acroalis | Tapas Acroalis is a fantasy world in which everyone has been living peacefully. that is, until two meteors landed.   the people of Acroalis ignored them, thinking them of a normal phenomena, but little do they know the meteors    contained a powerful...       acroalis-page-3.jpg940x1319 837 KB\\', \\'IMG_0463.jpg812x2048 330 KB\\', \\'I forgot about making an april fools comic so I made this! ttr27.png900x1000 112 KB\\', \\'Oh snap, a creepy one. Interesting premise so far\\', \\'Ha! lol, appropriate for in or outside april fools\\', \"Nice use of the scrolling format here! Text leads to image and finally leading to the bottom panel, it\\'s done pretty effectively here\", \"I missed yours the last time, so getting back to it! I like the very classic cartoon-y style of your characters @juniorguilherme340  During the fight with the giant sandworm, it\\'s great seeing you draw some complex camera angles in that scene, especially when the two characters charge in to fight!@waweezer3 As a creator who\\'s always late to the Holiday art party, I feel this one\", \"LOSTLAND - 2  tapas.io    LOSTLAND :: Welcome Back to Our Crazy Tale.... | Tapas So, you guys ready for the holiday season? I\\'ve got gifts bought, wrapped, and ready to go! .... I also work on the holiday, so slight bummer. Holiday pay is very OP though, but if you\\'ve got the opportunity to spend the day with family, spend it!!...        pg1.1.jpg800x1127 460 KB\"]'"
            ]
          },
          "metadata": {
            "tags": []
          },
          "execution_count": 58
        }
      ]
    },
    {
      "cell_type": "code",
      "metadata": {
        "colab": {
          "base_uri": "https://localhost:8080/",
          "height": 304
        },
        "id": "fZ_HqS__ZVJM",
        "outputId": "bbedf159-35ab-440f-ec80-e059fc750009"
      },
      "source": [
        "train[\"Title\"] = train[\"Title\"].apply(lambda x: re.sub(r'\\S+.jpg\\S+', '', str(x)))\n",
        "train[\"Original Post\"] = train[\"Original Post\"].apply(lambda x: re.sub(r'\\S+.jpg\\S+', '', str(x)))\n",
        "train[\"Comments\"] = train[\"Comments\"].apply(lambda x: re.sub(r'\\S+.jpg\\S+', '', str(x)))\n",
        "train.head()"
      ],
      "execution_count": null,
      "outputs": [
        {
          "output_type": "execute_result",
          "data": {
            "text/html": [
              "<div>\n",
              "<style scoped>\n",
              "    .dataframe tbody tr th:only-of-type {\n",
              "        vertical-align: middle;\n",
              "    }\n",
              "\n",
              "    .dataframe tbody tr th {\n",
              "        vertical-align: top;\n",
              "    }\n",
              "\n",
              "    .dataframe thead th {\n",
              "        text-align: right;\n",
              "    }\n",
              "</style>\n",
              "<table border=\"1\" class=\"dataframe\">\n",
              "  <thead>\n",
              "    <tr style=\"text-align: right;\">\n",
              "      <th></th>\n",
              "      <th>Title</th>\n",
              "      <th>Category</th>\n",
              "      <th>Date</th>\n",
              "      <th>Likes</th>\n",
              "      <th>Num Replies</th>\n",
              "      <th>Num Views</th>\n",
              "      <th>Original Post</th>\n",
              "      <th>Comments</th>\n",
              "    </tr>\n",
              "  </thead>\n",
              "  <tbody>\n",
              "    <tr>\n",
              "      <th>0</th>\n",
              "      <td>July COMICS CHALLENGE - Get Stuff Done!</td>\n",
              "      <td>Events | Challenges</td>\n",
              "      <td>Jun 28, 2021 12:49 pm</td>\n",
              "      <td>24</td>\n",
              "      <td>300</td>\n",
              "      <td>1700</td>\n",
              "      <td>Some days you just don't work on your comic, e...</td>\n",
              "      <td>[\"Hi, I'm Gabriella. For this July Comics Chal...</td>\n",
              "    </tr>\n",
              "    <tr>\n",
              "      <th>1</th>\n",
              "      <td>March Comic Madness Contest Final Results</td>\n",
              "      <td>Events | Challenges</td>\n",
              "      <td>Jul 20, 2021 7:31 am</td>\n",
              "      <td>20</td>\n",
              "      <td>13</td>\n",
              "      <td>149</td>\n",
              "      <td>Hooray!  The March Comic Madness Contest has c...</td>\n",
              "      <td>[\"Congrats to everyone and thank you so very m...</td>\n",
              "    </tr>\n",
              "    <tr>\n",
              "      <th>2</th>\n",
              "      <td>YOUR COMIC HERE! 1 page per day thread</td>\n",
              "      <td>Events | Challenges</td>\n",
              "      <td>Apr 5, 2020 2:21 pm</td>\n",
              "      <td>7</td>\n",
              "      <td>680</td>\n",
              "      <td>7600</td>\n",
              "      <td>As simple as it sounds! Start with your very f...</td>\n",
              "      <td>['Let me start this off: Acroalis-1   585 KB  ...</td>\n",
              "    </tr>\n",
              "    <tr>\n",
              "      <th>3</th>\n",
              "      <td>Draw Panel in your Style Event with a PRIZE!</td>\n",
              "      <td>Events | Challenges</td>\n",
              "      <td>Jul 4, 2021 4:23 am</td>\n",
              "      <td>6</td>\n",
              "      <td>4</td>\n",
              "      <td>129</td>\n",
              "      <td>Hi, I haven't done this before. But I wanted t...</td>\n",
              "      <td>[\"This is so fun Count me in BTW how to enter ...</td>\n",
              "    </tr>\n",
              "    <tr>\n",
              "      <th>4</th>\n",
              "      <td>I won the pride contest yay</td>\n",
              "      <td>Events | Challenges</td>\n",
              "      <td>Jun 25, 2021 5:00 pm</td>\n",
              "      <td>30</td>\n",
              "      <td>13</td>\n",
              "      <td>217</td>\n",
              "      <td>yay   whenever I enter a contest I immediately...</td>\n",
              "      <td>['Your art is adorable, congratulations on win...</td>\n",
              "    </tr>\n",
              "  </tbody>\n",
              "</table>\n",
              "</div>"
            ],
            "text/plain": [
              "                                          Title  ...                                           Comments\n",
              "0       July COMICS CHALLENGE - Get Stuff Done!  ...  [\"Hi, I'm Gabriella. For this July Comics Chal...\n",
              "1     March Comic Madness Contest Final Results  ...  [\"Congrats to everyone and thank you so very m...\n",
              "2        YOUR COMIC HERE! 1 page per day thread  ...  ['Let me start this off: Acroalis-1   585 KB  ...\n",
              "3  Draw Panel in your Style Event with a PRIZE!  ...  [\"This is so fun Count me in BTW how to enter ...\n",
              "4                   I won the pride contest yay  ...  ['Your art is adorable, congratulations on win...\n",
              "\n",
              "[5 rows x 8 columns]"
            ]
          },
          "metadata": {
            "tags": []
          },
          "execution_count": 59
        }
      ]
    },
    {
      "cell_type": "code",
      "metadata": {
        "colab": {
          "base_uri": "https://localhost:8080/",
          "height": 137
        },
        "id": "ecEZrqXHdEm_",
        "outputId": "8f811914-f441-43c6-d34a-d9bce25b37ee"
      },
      "source": [
        "train[\"Comments\"][2]"
      ],
      "execution_count": null,
      "outputs": [
        {
          "output_type": "execute_result",
          "data": {
            "application/vnd.google.colaboratory.intrinsic+json": {
              "type": "string"
            },
            "text/plain": [
              "'[\\'Let me start this off: Acroalis-1   585 KB    tapas.io    Acroalis | Tapas Acroalis is a fantasy world in which everyone has been living peacefully. that is, until two meteors landed.   the people of Acroalis ignored them, thinking them of a normal phenomena, but little do they know the meteors    contained a powerful...      Will be waiting to check and comment your pages.\\', \"LOSTLAND-1   tapas.io9    LOSTLAND :: Hello, Dear Listeners.... | Tapas Happy 8th Anniversary, by the way! Yes, The Lostland has been running since 2011 on this exact day, so how best to celebrate than with a fresh, new start on a long running series?  You can find the old one here, but don\\'t expect spoilers! A lot has...\", \\'My comment will be that I count help but sub and read your whole thing thus far. Very interesting wasland world. Well you got my attention now. Jut post it here each day and good luck getting others interested xD.\\', \\'ACROALIS-2   873 KB   tapas.io    Acroalis :: Prologue (remake) | Tapas Time to reborn anew\\', \\'I love the architecture of the buildings! Very unique. And Moko is such a cool name for a town.\\', \\'Otterly Human - 1  273 KB   tapas.io4    Otterly Human | Tapas Otterly absurd comics\\', \"Whoops! I commented on the page, but I\\'ll put it here:You show a very good use of tone values in these pages so far! Keep it going!\", \"You\\'re welcome, great idea with this thread!\", \\'Haha lol, that is a weird climate indeed. Like the characters design. Is that a turtle and a rat? Either way will be interesting seeing the continuation from this tomorrow.\\', \"Close, it\\'s a turtle and a fox!\", \\'Ok updated the rules to make the thread a little cleaner so there is more pages to scroll down than reading comments and comment replies like these. So every 5 pages uploaded, delete 3 of your comments. That way people can scroll down and see pages rather than lots and lots of comments and replies. Hows that sound fare? want your opinion on this\\', \\'ACROALIS-3   tapas.io    Acroalis | Tapas Acroalis is a fantasy world in which everyone has been living peacefully. that is, until two meteors landed.   the people of Acroalis ignored them, thinking them of a normal phenomena, but little do they know the meteors    contained a powerful...        837 KB\\',  330 KB\\', \\'I forgot about making an april fools comic so I made this! ttr27.png900x1000 112 KB\\', \\'Oh snap, a creepy one. Interesting premise so far\\', \\'Ha! lol, appropriate for in or outside april fools\\', \"Nice use of the scrolling format here! Text leads to image and finally leading to the bottom panel, it\\'s done pretty effectively here\", \"I missed yours the last time, so getting back to it! I like the very classic cartoon-y style of your characters @juniorguilherme340  During the fight with the giant sandworm, it\\'s great seeing you draw some complex camera angles in that scene, especially when the two characters charge in to fight!@waweezer3 As a creator who\\'s always late to the Holiday art party, I feel this one\", \"LOSTLAND - 2  tapas.io    LOSTLAND :: Welcome Back to Our Crazy Tale.... | Tapas So, you guys ready for the holiday season? I\\'ve got gifts bought, wrapped, and ready to go! .... I also work on the holiday, so slight bummer. Holiday pay is very OP though, but if you\\'ve got the opportunity to spend the day with family, spend it!!...         460 KB\"]'"
            ]
          },
          "metadata": {
            "tags": []
          },
          "execution_count": 60
        }
      ]
    },
    {
      "cell_type": "code",
      "metadata": {
        "colab": {
          "base_uri": "https://localhost:8080/",
          "height": 304
        },
        "id": "7paUZta0aq4j",
        "outputId": "b1bfc784-8865-4c91-87d0-1eb8ed9387df"
      },
      "source": [
        "train[\"Title\"] = train[\"Title\"].apply(lambda x: re.sub(r'\\S+.png\\S+', '', str(x)))\n",
        "train[\"Original Post\"] = train[\"Original Post\"].apply(lambda x: re.sub(r'\\S+.png\\S+', '', str(x)))\n",
        "train[\"Comments\"] = train[\"Comments\"].apply(lambda x: re.sub(r'\\S+.png\\S+', '', str(x)))\n",
        "train.head()"
      ],
      "execution_count": null,
      "outputs": [
        {
          "output_type": "execute_result",
          "data": {
            "text/html": [
              "<div>\n",
              "<style scoped>\n",
              "    .dataframe tbody tr th:only-of-type {\n",
              "        vertical-align: middle;\n",
              "    }\n",
              "\n",
              "    .dataframe tbody tr th {\n",
              "        vertical-align: top;\n",
              "    }\n",
              "\n",
              "    .dataframe thead th {\n",
              "        text-align: right;\n",
              "    }\n",
              "</style>\n",
              "<table border=\"1\" class=\"dataframe\">\n",
              "  <thead>\n",
              "    <tr style=\"text-align: right;\">\n",
              "      <th></th>\n",
              "      <th>Title</th>\n",
              "      <th>Category</th>\n",
              "      <th>Date</th>\n",
              "      <th>Likes</th>\n",
              "      <th>Num Replies</th>\n",
              "      <th>Num Views</th>\n",
              "      <th>Original Post</th>\n",
              "      <th>Comments</th>\n",
              "    </tr>\n",
              "  </thead>\n",
              "  <tbody>\n",
              "    <tr>\n",
              "      <th>0</th>\n",
              "      <td>July COMICS CHALLENGE - Get Stuff Done!</td>\n",
              "      <td>Events | Challenges</td>\n",
              "      <td>Jun 28, 2021 12:49 pm</td>\n",
              "      <td>24</td>\n",
              "      <td>300</td>\n",
              "      <td>1700</td>\n",
              "      <td>Some days you just don't work on your comic, e...</td>\n",
              "      <td>[\"Hi, I'm Gabriella. For this July Comics Chal...</td>\n",
              "    </tr>\n",
              "    <tr>\n",
              "      <th>1</th>\n",
              "      <td>March Comic Madness Contest Final Results</td>\n",
              "      <td>Events | Challenges</td>\n",
              "      <td>Jul 20, 2021 7:31 am</td>\n",
              "      <td>20</td>\n",
              "      <td>13</td>\n",
              "      <td>149</td>\n",
              "      <td>Hooray!  The March Comic Madness Contest has c...</td>\n",
              "      <td>[\"Congrats to everyone and thank you so very m...</td>\n",
              "    </tr>\n",
              "    <tr>\n",
              "      <th>2</th>\n",
              "      <td>YOUR COMIC HERE! 1 page per day thread</td>\n",
              "      <td>Events | Challenges</td>\n",
              "      <td>Apr 5, 2020 2:21 pm</td>\n",
              "      <td>7</td>\n",
              "      <td>680</td>\n",
              "      <td>7600</td>\n",
              "      <td>As simple as it sounds! Start with your very f...</td>\n",
              "      <td>['Let me start this off: Acroalis-1   585 KB  ...</td>\n",
              "    </tr>\n",
              "    <tr>\n",
              "      <th>3</th>\n",
              "      <td>Draw Panel in your Style Event with a PRIZE!</td>\n",
              "      <td>Events | Challenges</td>\n",
              "      <td>Jul 4, 2021 4:23 am</td>\n",
              "      <td>6</td>\n",
              "      <td>4</td>\n",
              "      <td>129</td>\n",
              "      <td>Hi, I haven't done this before. But I wanted t...</td>\n",
              "      <td>[\"This is so fun Count me in BTW how to enter ...</td>\n",
              "    </tr>\n",
              "    <tr>\n",
              "      <th>4</th>\n",
              "      <td>I won the pride contest yay</td>\n",
              "      <td>Events | Challenges</td>\n",
              "      <td>Jun 25, 2021 5:00 pm</td>\n",
              "      <td>30</td>\n",
              "      <td>13</td>\n",
              "      <td>217</td>\n",
              "      <td>yay   whenever I enter a contest I immediately...</td>\n",
              "      <td>['Your art is adorable, congratulations on win...</td>\n",
              "    </tr>\n",
              "  </tbody>\n",
              "</table>\n",
              "</div>"
            ],
            "text/plain": [
              "                                          Title  ...                                           Comments\n",
              "0       July COMICS CHALLENGE - Get Stuff Done!  ...  [\"Hi, I'm Gabriella. For this July Comics Chal...\n",
              "1     March Comic Madness Contest Final Results  ...  [\"Congrats to everyone and thank you so very m...\n",
              "2        YOUR COMIC HERE! 1 page per day thread  ...  ['Let me start this off: Acroalis-1   585 KB  ...\n",
              "3  Draw Panel in your Style Event with a PRIZE!  ...  [\"This is so fun Count me in BTW how to enter ...\n",
              "4                   I won the pride contest yay  ...  ['Your art is adorable, congratulations on win...\n",
              "\n",
              "[5 rows x 8 columns]"
            ]
          },
          "metadata": {
            "tags": []
          },
          "execution_count": 61
        }
      ]
    },
    {
      "cell_type": "code",
      "metadata": {
        "colab": {
          "base_uri": "https://localhost:8080/",
          "height": 304
        },
        "id": "mgLtSgoVZlgs",
        "outputId": "da79662b-feec-44c8-83fa-5d705afdf373"
      },
      "source": [
        "train[\"Title\"] = train[\"Title\"].apply(lambda x: \" \".join(x for x in str(x).split() if x not in stopwords.words(\"english\")))\n",
        "train[\"Original Post\"] = train[\"Original Post\"].apply(lambda x: \" \".join(x for x in str(x).split() if x not in stopwords.words(\"english\")))\n",
        "train[\"Comments\"] = train[\"Comments\"].apply(lambda x: \" \".join(x for x in str(x).split() if x not in stopwords.words(\"english\")))\n",
        "train.head()"
      ],
      "execution_count": null,
      "outputs": [
        {
          "output_type": "execute_result",
          "data": {
            "text/html": [
              "<div>\n",
              "<style scoped>\n",
              "    .dataframe tbody tr th:only-of-type {\n",
              "        vertical-align: middle;\n",
              "    }\n",
              "\n",
              "    .dataframe tbody tr th {\n",
              "        vertical-align: top;\n",
              "    }\n",
              "\n",
              "    .dataframe thead th {\n",
              "        text-align: right;\n",
              "    }\n",
              "</style>\n",
              "<table border=\"1\" class=\"dataframe\">\n",
              "  <thead>\n",
              "    <tr style=\"text-align: right;\">\n",
              "      <th></th>\n",
              "      <th>Title</th>\n",
              "      <th>Category</th>\n",
              "      <th>Date</th>\n",
              "      <th>Likes</th>\n",
              "      <th>Num Replies</th>\n",
              "      <th>Num Views</th>\n",
              "      <th>Original Post</th>\n",
              "      <th>Comments</th>\n",
              "    </tr>\n",
              "  </thead>\n",
              "  <tbody>\n",
              "    <tr>\n",
              "      <th>0</th>\n",
              "      <td>July COMICS CHALLENGE - Get Stuff Done!</td>\n",
              "      <td>Events | Challenges</td>\n",
              "      <td>Jun 28, 2021 12:49 pm</td>\n",
              "      <td>24</td>\n",
              "      <td>300</td>\n",
              "      <td>1700</td>\n",
              "      <td>Some days work comic, even though really want ...</td>\n",
              "      <td>[\"Hi, I'm Gabriella. For July Comics Challenge...</td>\n",
              "    </tr>\n",
              "    <tr>\n",
              "      <th>1</th>\n",
              "      <td>March Comic Madness Contest Final Results</td>\n",
              "      <td>Events | Challenges</td>\n",
              "      <td>Jul 20, 2021 7:31 am</td>\n",
              "      <td>20</td>\n",
              "      <td>13</td>\n",
              "      <td>149</td>\n",
              "      <td>Hooray! The March Comic Madness Contest come c...</td>\n",
              "      <td>[\"Congrats everyone thank much!!! We're flatte...</td>\n",
              "    </tr>\n",
              "    <tr>\n",
              "      <th>2</th>\n",
              "      <td>YOUR COMIC HERE! 1 page per day thread</td>\n",
              "      <td>Events | Challenges</td>\n",
              "      <td>Apr 5, 2020 2:21 pm</td>\n",
              "      <td>7</td>\n",
              "      <td>680</td>\n",
              "      <td>7600</td>\n",
              "      <td>As simple sounds! Start first page, everyday u...</td>\n",
              "      <td>['Let start off: Acroalis-1 585 KB tapas.io Ac...</td>\n",
              "    </tr>\n",
              "    <tr>\n",
              "      <th>3</th>\n",
              "      <td>Draw Panel Style Event PRIZE!</td>\n",
              "      <td>Events | Challenges</td>\n",
              "      <td>Jul 4, 2021 4:23 am</td>\n",
              "      <td>6</td>\n",
              "      <td>4</td>\n",
              "      <td>129</td>\n",
              "      <td>Hi, I done before. But I wanted let community ...</td>\n",
              "      <td>[\"This fun Count BTW enter like send you?And s...</td>\n",
              "    </tr>\n",
              "    <tr>\n",
              "      <th>4</th>\n",
              "      <td>I pride contest yay</td>\n",
              "      <td>Events | Challenges</td>\n",
              "      <td>Jun 25, 2021 5:00 pm</td>\n",
              "      <td>30</td>\n",
              "      <td>13</td>\n",
              "      <td>217</td>\n",
              "      <td>yay whenever I enter contest I immediately for...</td>\n",
              "      <td>['Your art adorable, congratulations winning P...</td>\n",
              "    </tr>\n",
              "  </tbody>\n",
              "</table>\n",
              "</div>"
            ],
            "text/plain": [
              "                                       Title  ...                                           Comments\n",
              "0    July COMICS CHALLENGE - Get Stuff Done!  ...  [\"Hi, I'm Gabriella. For July Comics Challenge...\n",
              "1  March Comic Madness Contest Final Results  ...  [\"Congrats everyone thank much!!! We're flatte...\n",
              "2     YOUR COMIC HERE! 1 page per day thread  ...  ['Let start off: Acroalis-1 585 KB tapas.io Ac...\n",
              "3              Draw Panel Style Event PRIZE!  ...  [\"This fun Count BTW enter like send you?And s...\n",
              "4                        I pride contest yay  ...  ['Your art adorable, congratulations winning P...\n",
              "\n",
              "[5 rows x 8 columns]"
            ]
          },
          "metadata": {
            "tags": []
          },
          "execution_count": 62
        }
      ]
    },
    {
      "cell_type": "code",
      "metadata": {
        "colab": {
          "base_uri": "https://localhost:8080/",
          "height": 304
        },
        "id": "pAr8FYqyZks_",
        "outputId": "2d8e6336-4796-42c6-90e9-e124266f5420"
      },
      "source": [
        "train[\"Title\"] = train[\"Title\"].apply(lambda x: \" \".join(x.lower() for x in str(x).split()))\n",
        "train[\"Original Post\"] = train[\"Original Post\"].apply(lambda x: \" \".join(x.lower() for x in str(x).split()))\n",
        "train[\"Comments\"] = train[\"Comments\"].apply(lambda x: \" \".join(x.lower() for x in str(x).split()))\n",
        "train.head()"
      ],
      "execution_count": null,
      "outputs": [
        {
          "output_type": "execute_result",
          "data": {
            "text/html": [
              "<div>\n",
              "<style scoped>\n",
              "    .dataframe tbody tr th:only-of-type {\n",
              "        vertical-align: middle;\n",
              "    }\n",
              "\n",
              "    .dataframe tbody tr th {\n",
              "        vertical-align: top;\n",
              "    }\n",
              "\n",
              "    .dataframe thead th {\n",
              "        text-align: right;\n",
              "    }\n",
              "</style>\n",
              "<table border=\"1\" class=\"dataframe\">\n",
              "  <thead>\n",
              "    <tr style=\"text-align: right;\">\n",
              "      <th></th>\n",
              "      <th>Title</th>\n",
              "      <th>Category</th>\n",
              "      <th>Date</th>\n",
              "      <th>Likes</th>\n",
              "      <th>Num Replies</th>\n",
              "      <th>Num Views</th>\n",
              "      <th>Original Post</th>\n",
              "      <th>Comments</th>\n",
              "    </tr>\n",
              "  </thead>\n",
              "  <tbody>\n",
              "    <tr>\n",
              "      <th>0</th>\n",
              "      <td>july comics challenge - get stuff done!</td>\n",
              "      <td>Events | Challenges</td>\n",
              "      <td>Jun 28, 2021 12:49 pm</td>\n",
              "      <td>24</td>\n",
              "      <td>300</td>\n",
              "      <td>1700</td>\n",
              "      <td>some days work comic, even though really want ...</td>\n",
              "      <td>[\"hi, i'm gabriella. for july comics challenge...</td>\n",
              "    </tr>\n",
              "    <tr>\n",
              "      <th>1</th>\n",
              "      <td>march comic madness contest final results</td>\n",
              "      <td>Events | Challenges</td>\n",
              "      <td>Jul 20, 2021 7:31 am</td>\n",
              "      <td>20</td>\n",
              "      <td>13</td>\n",
              "      <td>149</td>\n",
              "      <td>hooray! the march comic madness contest come c...</td>\n",
              "      <td>[\"congrats everyone thank much!!! we're flatte...</td>\n",
              "    </tr>\n",
              "    <tr>\n",
              "      <th>2</th>\n",
              "      <td>your comic here! 1 page per day thread</td>\n",
              "      <td>Events | Challenges</td>\n",
              "      <td>Apr 5, 2020 2:21 pm</td>\n",
              "      <td>7</td>\n",
              "      <td>680</td>\n",
              "      <td>7600</td>\n",
              "      <td>as simple sounds! start first page, everyday u...</td>\n",
              "      <td>['let start off: acroalis-1 585 kb tapas.io ac...</td>\n",
              "    </tr>\n",
              "    <tr>\n",
              "      <th>3</th>\n",
              "      <td>draw panel style event prize!</td>\n",
              "      <td>Events | Challenges</td>\n",
              "      <td>Jul 4, 2021 4:23 am</td>\n",
              "      <td>6</td>\n",
              "      <td>4</td>\n",
              "      <td>129</td>\n",
              "      <td>hi, i done before. but i wanted let community ...</td>\n",
              "      <td>[\"this fun count btw enter like send you?and s...</td>\n",
              "    </tr>\n",
              "    <tr>\n",
              "      <th>4</th>\n",
              "      <td>i pride contest yay</td>\n",
              "      <td>Events | Challenges</td>\n",
              "      <td>Jun 25, 2021 5:00 pm</td>\n",
              "      <td>30</td>\n",
              "      <td>13</td>\n",
              "      <td>217</td>\n",
              "      <td>yay whenever i enter contest i immediately for...</td>\n",
              "      <td>['your art adorable, congratulations winning p...</td>\n",
              "    </tr>\n",
              "  </tbody>\n",
              "</table>\n",
              "</div>"
            ],
            "text/plain": [
              "                                       Title  ...                                           Comments\n",
              "0    july comics challenge - get stuff done!  ...  [\"hi, i'm gabriella. for july comics challenge...\n",
              "1  march comic madness contest final results  ...  [\"congrats everyone thank much!!! we're flatte...\n",
              "2     your comic here! 1 page per day thread  ...  ['let start off: acroalis-1 585 kb tapas.io ac...\n",
              "3              draw panel style event prize!  ...  [\"this fun count btw enter like send you?and s...\n",
              "4                        i pride contest yay  ...  ['your art adorable, congratulations winning p...\n",
              "\n",
              "[5 rows x 8 columns]"
            ]
          },
          "metadata": {
            "tags": []
          },
          "execution_count": 63
        }
      ]
    },
    {
      "cell_type": "code",
      "metadata": {
        "colab": {
          "base_uri": "https://localhost:8080/",
          "height": 304
        },
        "id": "BiAxxj2YZlb9",
        "outputId": "903bd498-bcae-4ea7-c344-9cea3e658f8c"
      },
      "source": [
        "train[\"Title\"] = train[\"Title\"].str.replace(\"[^\\w\\s]\", \"\")\n",
        "train[\"Original Post\"] = train[\"Original Post\"].str.replace(\"[^\\w\\s]\", \"\")\n",
        "train[\"Comments\"] = train[\"Comments\"].str.replace(\"[^\\w\\s]\", \"\")\n",
        "train.head()"
      ],
      "execution_count": null,
      "outputs": [
        {
          "output_type": "execute_result",
          "data": {
            "text/html": [
              "<div>\n",
              "<style scoped>\n",
              "    .dataframe tbody tr th:only-of-type {\n",
              "        vertical-align: middle;\n",
              "    }\n",
              "\n",
              "    .dataframe tbody tr th {\n",
              "        vertical-align: top;\n",
              "    }\n",
              "\n",
              "    .dataframe thead th {\n",
              "        text-align: right;\n",
              "    }\n",
              "</style>\n",
              "<table border=\"1\" class=\"dataframe\">\n",
              "  <thead>\n",
              "    <tr style=\"text-align: right;\">\n",
              "      <th></th>\n",
              "      <th>Title</th>\n",
              "      <th>Category</th>\n",
              "      <th>Date</th>\n",
              "      <th>Likes</th>\n",
              "      <th>Num Replies</th>\n",
              "      <th>Num Views</th>\n",
              "      <th>Original Post</th>\n",
              "      <th>Comments</th>\n",
              "    </tr>\n",
              "  </thead>\n",
              "  <tbody>\n",
              "    <tr>\n",
              "      <th>0</th>\n",
              "      <td>july comics challenge  get stuff done</td>\n",
              "      <td>Events | Challenges</td>\n",
              "      <td>Jun 28, 2021 12:49 pm</td>\n",
              "      <td>24</td>\n",
              "      <td>300</td>\n",
              "      <td>1700</td>\n",
              "      <td>some days work comic even though really want t...</td>\n",
              "      <td>hi im gabriella for july comics challenge ill ...</td>\n",
              "    </tr>\n",
              "    <tr>\n",
              "      <th>1</th>\n",
              "      <td>march comic madness contest final results</td>\n",
              "      <td>Events | Challenges</td>\n",
              "      <td>Jul 20, 2021 7:31 am</td>\n",
              "      <td>20</td>\n",
              "      <td>13</td>\n",
              "      <td>149</td>\n",
              "      <td>hooray the march comic madness contest come cl...</td>\n",
              "      <td>congrats everyone thank much were flattered pi...</td>\n",
              "    </tr>\n",
              "    <tr>\n",
              "      <th>2</th>\n",
              "      <td>your comic here 1 page per day thread</td>\n",
              "      <td>Events | Challenges</td>\n",
              "      <td>Apr 5, 2020 2:21 pm</td>\n",
              "      <td>7</td>\n",
              "      <td>680</td>\n",
              "      <td>7600</td>\n",
              "      <td>as simple sounds start first page everyday upl...</td>\n",
              "      <td>let start off acroalis1 585 kb tapasio acroali...</td>\n",
              "    </tr>\n",
              "    <tr>\n",
              "      <th>3</th>\n",
              "      <td>draw panel style event prize</td>\n",
              "      <td>Events | Challenges</td>\n",
              "      <td>Jul 4, 2021 4:23 am</td>\n",
              "      <td>6</td>\n",
              "      <td>4</td>\n",
              "      <td>129</td>\n",
              "      <td>hi i done before but i wanted let community kn...</td>\n",
              "      <td>this fun count btw enter like send youand sele...</td>\n",
              "    </tr>\n",
              "    <tr>\n",
              "      <th>4</th>\n",
              "      <td>i pride contest yay</td>\n",
              "      <td>Events | Challenges</td>\n",
              "      <td>Jun 25, 2021 5:00 pm</td>\n",
              "      <td>30</td>\n",
              "      <td>13</td>\n",
              "      <td>217</td>\n",
              "      <td>yay whenever i enter contest i immediately for...</td>\n",
              "      <td>your art adorable congratulations winning prid...</td>\n",
              "    </tr>\n",
              "  </tbody>\n",
              "</table>\n",
              "</div>"
            ],
            "text/plain": [
              "                                       Title  ...                                           Comments\n",
              "0      july comics challenge  get stuff done  ...  hi im gabriella for july comics challenge ill ...\n",
              "1  march comic madness contest final results  ...  congrats everyone thank much were flattered pi...\n",
              "2      your comic here 1 page per day thread  ...  let start off acroalis1 585 kb tapasio acroali...\n",
              "3               draw panel style event prize  ...  this fun count btw enter like send youand sele...\n",
              "4                        i pride contest yay  ...  your art adorable congratulations winning prid...\n",
              "\n",
              "[5 rows x 8 columns]"
            ]
          },
          "metadata": {
            "tags": []
          },
          "execution_count": 64
        }
      ]
    },
    {
      "cell_type": "code",
      "metadata": {
        "colab": {
          "base_uri": "https://localhost:8080/",
          "height": 137
        },
        "id": "jAnNh7oPjlUs",
        "outputId": "94783f77-f66a-4db3-ca31-8369d0a61125"
      },
      "source": [
        "train[\"Comments\"][2]"
      ],
      "execution_count": null,
      "outputs": [
        {
          "output_type": "execute_result",
          "data": {
            "application/vnd.google.colaboratory.intrinsic+json": {
              "type": "string"
            },
            "text/plain": [
              "'let start off acroalis1 585 kb tapasio acroalis  tapas acroalis fantasy world everyone living peacefully is two meteors landed people acroalis ignored them thinking normal phenomena little know meteors contained powerful will waiting check comment pages lostland1 tapasio9 lostland  hello dear listeners  tapas happy 8th anniversary way yes the lostland running since 2011 exact day best celebrate fresh new start long running series you find old one here expect spoilers a lot has my comment i count help sub read whole thing thus far very interesting wasland world well got attention now jut post day good luck getting others interested xd acroalis2 873 kb tapasio acroalis  prologue remake  tapas time reborn anew i love architecture buildings very unique and moko cool name town otterly human  1 273 kb tapasio4 otterly human  tapas otterly absurd comics whoops i commented page ill put hereyou show good use tone values pages far keep going youre welcome great idea thread haha lol weird climate indeed like characters design is turtle rat either way interesting seeing continuation tomorrow close turtle fox ok updated rules make thread little cleaner pages scroll reading comments comment replies like these so every 5 pages uploaded delete 3 comments that way people scroll see pages rather lots lots comments replies hows sound fare want opinion this acroalis3 tapasio acroalis  tapas acroalis fantasy world everyone living peacefully is two meteors landed people acroalis ignored them thinking normal phenomena little know meteors contained powerful 837 kb 330 kb i forgot making april fools comic i made this 112 kb oh snap creepy one interesting premise far ha lol appropriate outside april fools nice use scrolling format here text leads image finally leading bottom panel done pretty effectively here i missed last time getting back it i like classic cartoony style characters juniorguilherme340 during fight giant sandworm great seeing draw complex camera angles scene especially two characters charge fightwaweezer3 as creator whos always late holiday art party i feel one lostland  2 tapasio lostland  welcome back our crazy tale  tapas so guys ready holiday season ive got gifts bought wrapped ready go  i also work holiday slight bummer holiday pay op though got opportunity spend day family spend it 460 kb'"
            ]
          },
          "metadata": {
            "tags": []
          },
          "execution_count": 65
        }
      ]
    },
    {
      "cell_type": "code",
      "metadata": {
        "colab": {
          "base_uri": "https://localhost:8080/",
          "height": 304
        },
        "id": "2Z2x5RkEZloU",
        "outputId": "753bf010-f062-4140-fe79-763937d926b9"
      },
      "source": [
        "manual_stopwords = [\"theyre\", \"didnt\", \"us\", \"you\", \"youre\", \"kb\", \"mb\", \"gb\", \"im\", \"i\"]\n",
        "train[\"Title\"] = train[\"Title\"].apply(lambda x: \" \".join(x for x in str(x).split() if x not in manual_stopwords))\n",
        "train[\"Original Post\"] = train[\"Original Post\"].apply(lambda x: \" \".join(x for x in str(x).split() if x not in manual_stopwords))\n",
        "train[\"Comments\"] = train[\"Comments\"].apply(lambda x: \" \".join(x for x in str(x).split() if x not in manual_stopwords))\n",
        "train.head()"
      ],
      "execution_count": null,
      "outputs": [
        {
          "output_type": "execute_result",
          "data": {
            "text/html": [
              "<div>\n",
              "<style scoped>\n",
              "    .dataframe tbody tr th:only-of-type {\n",
              "        vertical-align: middle;\n",
              "    }\n",
              "\n",
              "    .dataframe tbody tr th {\n",
              "        vertical-align: top;\n",
              "    }\n",
              "\n",
              "    .dataframe thead th {\n",
              "        text-align: right;\n",
              "    }\n",
              "</style>\n",
              "<table border=\"1\" class=\"dataframe\">\n",
              "  <thead>\n",
              "    <tr style=\"text-align: right;\">\n",
              "      <th></th>\n",
              "      <th>Title</th>\n",
              "      <th>Category</th>\n",
              "      <th>Date</th>\n",
              "      <th>Likes</th>\n",
              "      <th>Num Replies</th>\n",
              "      <th>Num Views</th>\n",
              "      <th>Original Post</th>\n",
              "      <th>Comments</th>\n",
              "    </tr>\n",
              "  </thead>\n",
              "  <tbody>\n",
              "    <tr>\n",
              "      <th>0</th>\n",
              "      <td>july comics challenge get stuff done</td>\n",
              "      <td>Events | Challenges</td>\n",
              "      <td>Jun 28, 2021 12:49 pm</td>\n",
              "      <td>24</td>\n",
              "      <td>300</td>\n",
              "      <td>1700</td>\n",
              "      <td>some days work comic even though really want t...</td>\n",
              "      <td>hi gabriella for july comics challenge ill wor...</td>\n",
              "    </tr>\n",
              "    <tr>\n",
              "      <th>1</th>\n",
              "      <td>march comic madness contest final results</td>\n",
              "      <td>Events | Challenges</td>\n",
              "      <td>Jul 20, 2021 7:31 am</td>\n",
              "      <td>20</td>\n",
              "      <td>13</td>\n",
              "      <td>149</td>\n",
              "      <td>hooray the march comic madness contest come cl...</td>\n",
              "      <td>congrats everyone thank much were flattered pi...</td>\n",
              "    </tr>\n",
              "    <tr>\n",
              "      <th>2</th>\n",
              "      <td>your comic here 1 page per day thread</td>\n",
              "      <td>Events | Challenges</td>\n",
              "      <td>Apr 5, 2020 2:21 pm</td>\n",
              "      <td>7</td>\n",
              "      <td>680</td>\n",
              "      <td>7600</td>\n",
              "      <td>as simple sounds start first page everyday upl...</td>\n",
              "      <td>let start off acroalis1 585 tapasio acroalis t...</td>\n",
              "    </tr>\n",
              "    <tr>\n",
              "      <th>3</th>\n",
              "      <td>draw panel style event prize</td>\n",
              "      <td>Events | Challenges</td>\n",
              "      <td>Jul 4, 2021 4:23 am</td>\n",
              "      <td>6</td>\n",
              "      <td>4</td>\n",
              "      <td>129</td>\n",
              "      <td>hi done before but wanted let community know t...</td>\n",
              "      <td>this fun count btw enter like send youand sele...</td>\n",
              "    </tr>\n",
              "    <tr>\n",
              "      <th>4</th>\n",
              "      <td>pride contest yay</td>\n",
              "      <td>Events | Challenges</td>\n",
              "      <td>Jun 25, 2021 5:00 pm</td>\n",
              "      <td>30</td>\n",
              "      <td>13</td>\n",
              "      <td>217</td>\n",
              "      <td>yay whenever enter contest immediately forget ...</td>\n",
              "      <td>your art adorable congratulations winning prid...</td>\n",
              "    </tr>\n",
              "  </tbody>\n",
              "</table>\n",
              "</div>"
            ],
            "text/plain": [
              "                                       Title  ...                                           Comments\n",
              "0       july comics challenge get stuff done  ...  hi gabriella for july comics challenge ill wor...\n",
              "1  march comic madness contest final results  ...  congrats everyone thank much were flattered pi...\n",
              "2      your comic here 1 page per day thread  ...  let start off acroalis1 585 tapasio acroalis t...\n",
              "3               draw panel style event prize  ...  this fun count btw enter like send youand sele...\n",
              "4                          pride contest yay  ...  your art adorable congratulations winning prid...\n",
              "\n",
              "[5 rows x 8 columns]"
            ]
          },
          "metadata": {
            "tags": []
          },
          "execution_count": 66
        }
      ]
    },
    {
      "cell_type": "code",
      "metadata": {
        "colab": {
          "base_uri": "https://localhost:8080/",
          "height": 304
        },
        "id": "owhVLwRUdcwS",
        "outputId": "67cfe183-7d48-46d3-e3e6-d5a59ddb3cef"
      },
      "source": [
        "train[\"Title\"] = train[\"Title\"].apply(lambda x: re.sub(r'\\d+', '', str(x)))\n",
        "train[\"Original Post\"] = train[\"Original Post\"].apply(lambda x: re.sub(r'\\d+', '', str(x)))\n",
        "train[\"Comments\"] = train[\"Comments\"].apply(lambda x: re.sub(r'\\d+', '', str(x)))\n",
        "train.head()"
      ],
      "execution_count": null,
      "outputs": [
        {
          "output_type": "execute_result",
          "data": {
            "text/html": [
              "<div>\n",
              "<style scoped>\n",
              "    .dataframe tbody tr th:only-of-type {\n",
              "        vertical-align: middle;\n",
              "    }\n",
              "\n",
              "    .dataframe tbody tr th {\n",
              "        vertical-align: top;\n",
              "    }\n",
              "\n",
              "    .dataframe thead th {\n",
              "        text-align: right;\n",
              "    }\n",
              "</style>\n",
              "<table border=\"1\" class=\"dataframe\">\n",
              "  <thead>\n",
              "    <tr style=\"text-align: right;\">\n",
              "      <th></th>\n",
              "      <th>Title</th>\n",
              "      <th>Category</th>\n",
              "      <th>Date</th>\n",
              "      <th>Likes</th>\n",
              "      <th>Num Replies</th>\n",
              "      <th>Num Views</th>\n",
              "      <th>Original Post</th>\n",
              "      <th>Comments</th>\n",
              "    </tr>\n",
              "  </thead>\n",
              "  <tbody>\n",
              "    <tr>\n",
              "      <th>0</th>\n",
              "      <td>july comics challenge get stuff done</td>\n",
              "      <td>Events | Challenges</td>\n",
              "      <td>Jun 28, 2021 12:49 pm</td>\n",
              "      <td>24</td>\n",
              "      <td>300</td>\n",
              "      <td>1700</td>\n",
              "      <td>some days work comic even though really want t...</td>\n",
              "      <td>hi gabriella for july comics challenge ill wor...</td>\n",
              "    </tr>\n",
              "    <tr>\n",
              "      <th>1</th>\n",
              "      <td>march comic madness contest final results</td>\n",
              "      <td>Events | Challenges</td>\n",
              "      <td>Jul 20, 2021 7:31 am</td>\n",
              "      <td>20</td>\n",
              "      <td>13</td>\n",
              "      <td>149</td>\n",
              "      <td>hooray the march comic madness contest come cl...</td>\n",
              "      <td>congrats everyone thank much were flattered pi...</td>\n",
              "    </tr>\n",
              "    <tr>\n",
              "      <th>2</th>\n",
              "      <td>your comic here  page per day thread</td>\n",
              "      <td>Events | Challenges</td>\n",
              "      <td>Apr 5, 2020 2:21 pm</td>\n",
              "      <td>7</td>\n",
              "      <td>680</td>\n",
              "      <td>7600</td>\n",
              "      <td>as simple sounds start first page everyday upl...</td>\n",
              "      <td>let start off acroalis  tapasio acroalis tapas...</td>\n",
              "    </tr>\n",
              "    <tr>\n",
              "      <th>3</th>\n",
              "      <td>draw panel style event prize</td>\n",
              "      <td>Events | Challenges</td>\n",
              "      <td>Jul 4, 2021 4:23 am</td>\n",
              "      <td>6</td>\n",
              "      <td>4</td>\n",
              "      <td>129</td>\n",
              "      <td>hi done before but wanted let community know t...</td>\n",
              "      <td>this fun count btw enter like send youand sele...</td>\n",
              "    </tr>\n",
              "    <tr>\n",
              "      <th>4</th>\n",
              "      <td>pride contest yay</td>\n",
              "      <td>Events | Challenges</td>\n",
              "      <td>Jun 25, 2021 5:00 pm</td>\n",
              "      <td>30</td>\n",
              "      <td>13</td>\n",
              "      <td>217</td>\n",
              "      <td>yay whenever enter contest immediately forget ...</td>\n",
              "      <td>your art adorable congratulations winning prid...</td>\n",
              "    </tr>\n",
              "  </tbody>\n",
              "</table>\n",
              "</div>"
            ],
            "text/plain": [
              "                                       Title  ...                                           Comments\n",
              "0       july comics challenge get stuff done  ...  hi gabriella for july comics challenge ill wor...\n",
              "1  march comic madness contest final results  ...  congrats everyone thank much were flattered pi...\n",
              "2       your comic here  page per day thread  ...  let start off acroalis  tapasio acroalis tapas...\n",
              "3               draw panel style event prize  ...  this fun count btw enter like send youand sele...\n",
              "4                          pride contest yay  ...  your art adorable congratulations winning prid...\n",
              "\n",
              "[5 rows x 8 columns]"
            ]
          },
          "metadata": {
            "tags": []
          },
          "execution_count": 67
        }
      ]
    },
    {
      "cell_type": "code",
      "metadata": {
        "colab": {
          "base_uri": "https://localhost:8080/",
          "height": 137
        },
        "id": "_6MoNk-TjwKJ",
        "outputId": "714ee4a4-1e0b-40d6-c33c-d0d74204946d"
      },
      "source": [
        "train[\"Comments\"][2]"
      ],
      "execution_count": null,
      "outputs": [
        {
          "output_type": "execute_result",
          "data": {
            "application/vnd.google.colaboratory.intrinsic+json": {
              "type": "string"
            },
            "text/plain": [
              "'let start off acroalis  tapasio acroalis tapas acroalis fantasy world everyone living peacefully is two meteors landed people acroalis ignored them thinking normal phenomena little know meteors contained powerful will waiting check comment pages lostland tapasio lostland hello dear listeners tapas happy th anniversary way yes the lostland running since  exact day best celebrate fresh new start long running series find old one here expect spoilers a lot has my comment count help sub read whole thing thus far very interesting wasland world well got attention now jut post day good luck getting others interested xd acroalis  tapasio acroalis prologue remake tapas time reborn anew love architecture buildings very unique and moko cool name town otterly human   tapasio otterly human tapas otterly absurd comics whoops commented page ill put hereyou show good use tone values pages far keep going welcome great idea thread haha lol weird climate indeed like characters design is turtle rat either way interesting seeing continuation tomorrow close turtle fox ok updated rules make thread little cleaner pages scroll reading comments comment replies like these so every  pages uploaded delete  comments that way people scroll see pages rather lots lots comments replies hows sound fare want opinion this acroalis tapasio acroalis tapas acroalis fantasy world everyone living peacefully is two meteors landed people acroalis ignored them thinking normal phenomena little know meteors contained powerful   forgot making april fools comic made this  oh snap creepy one interesting premise far ha lol appropriate outside april fools nice use scrolling format here text leads image finally leading bottom panel done pretty effectively here missed last time getting back it like classic cartoony style characters juniorguilherme during fight giant sandworm great seeing draw complex camera angles scene especially two characters charge fightwaweezer as creator whos always late holiday art party feel one lostland  tapasio lostland welcome back our crazy tale tapas so guys ready holiday season ive got gifts bought wrapped ready go also work holiday slight bummer holiday pay op though got opportunity spend day family spend it '"
            ]
          },
          "metadata": {
            "tags": []
          },
          "execution_count": 68
        }
      ]
    },
    {
      "cell_type": "code",
      "metadata": {
        "colab": {
          "base_uri": "https://localhost:8080/",
          "height": 304
        },
        "id": "ujdcov39j5GN",
        "outputId": "23736755-8a2c-4ce3-8e88-1efbd12b78e4"
      },
      "source": [
        "train[\"Title\"] = train[\"Title\"].apply(lambda x: str(x).replace(\"  \", \" \"))\n",
        "train[\"Original Post\"] = train[\"Original Post\"].apply(lambda x: str(x).replace(\"  \", \" \"))\n",
        "train[\"Comments\"] = train[\"Comments\"].apply(lambda x: str(x).replace(\"  \", \" \"))\n",
        "train.head()"
      ],
      "execution_count": null,
      "outputs": [
        {
          "output_type": "execute_result",
          "data": {
            "text/html": [
              "<div>\n",
              "<style scoped>\n",
              "    .dataframe tbody tr th:only-of-type {\n",
              "        vertical-align: middle;\n",
              "    }\n",
              "\n",
              "    .dataframe tbody tr th {\n",
              "        vertical-align: top;\n",
              "    }\n",
              "\n",
              "    .dataframe thead th {\n",
              "        text-align: right;\n",
              "    }\n",
              "</style>\n",
              "<table border=\"1\" class=\"dataframe\">\n",
              "  <thead>\n",
              "    <tr style=\"text-align: right;\">\n",
              "      <th></th>\n",
              "      <th>Title</th>\n",
              "      <th>Category</th>\n",
              "      <th>Date</th>\n",
              "      <th>Likes</th>\n",
              "      <th>Num Replies</th>\n",
              "      <th>Num Views</th>\n",
              "      <th>Original Post</th>\n",
              "      <th>Comments</th>\n",
              "    </tr>\n",
              "  </thead>\n",
              "  <tbody>\n",
              "    <tr>\n",
              "      <th>0</th>\n",
              "      <td>july comics challenge get stuff done</td>\n",
              "      <td>Events | Challenges</td>\n",
              "      <td>Jun 28, 2021 12:49 pm</td>\n",
              "      <td>24</td>\n",
              "      <td>300</td>\n",
              "      <td>1700</td>\n",
              "      <td>some days work comic even though really want t...</td>\n",
              "      <td>hi gabriella for july comics challenge ill wor...</td>\n",
              "    </tr>\n",
              "    <tr>\n",
              "      <th>1</th>\n",
              "      <td>march comic madness contest final results</td>\n",
              "      <td>Events | Challenges</td>\n",
              "      <td>Jul 20, 2021 7:31 am</td>\n",
              "      <td>20</td>\n",
              "      <td>13</td>\n",
              "      <td>149</td>\n",
              "      <td>hooray the march comic madness contest come cl...</td>\n",
              "      <td>congrats everyone thank much were flattered pi...</td>\n",
              "    </tr>\n",
              "    <tr>\n",
              "      <th>2</th>\n",
              "      <td>your comic here page per day thread</td>\n",
              "      <td>Events | Challenges</td>\n",
              "      <td>Apr 5, 2020 2:21 pm</td>\n",
              "      <td>7</td>\n",
              "      <td>680</td>\n",
              "      <td>7600</td>\n",
              "      <td>as simple sounds start first page everyday upl...</td>\n",
              "      <td>let start off acroalis tapasio acroalis tapas ...</td>\n",
              "    </tr>\n",
              "    <tr>\n",
              "      <th>3</th>\n",
              "      <td>draw panel style event prize</td>\n",
              "      <td>Events | Challenges</td>\n",
              "      <td>Jul 4, 2021 4:23 am</td>\n",
              "      <td>6</td>\n",
              "      <td>4</td>\n",
              "      <td>129</td>\n",
              "      <td>hi done before but wanted let community know t...</td>\n",
              "      <td>this fun count btw enter like send youand sele...</td>\n",
              "    </tr>\n",
              "    <tr>\n",
              "      <th>4</th>\n",
              "      <td>pride contest yay</td>\n",
              "      <td>Events | Challenges</td>\n",
              "      <td>Jun 25, 2021 5:00 pm</td>\n",
              "      <td>30</td>\n",
              "      <td>13</td>\n",
              "      <td>217</td>\n",
              "      <td>yay whenever enter contest immediately forget ...</td>\n",
              "      <td>your art adorable congratulations winning prid...</td>\n",
              "    </tr>\n",
              "  </tbody>\n",
              "</table>\n",
              "</div>"
            ],
            "text/plain": [
              "                                       Title  ...                                           Comments\n",
              "0       july comics challenge get stuff done  ...  hi gabriella for july comics challenge ill wor...\n",
              "1  march comic madness contest final results  ...  congrats everyone thank much were flattered pi...\n",
              "2        your comic here page per day thread  ...  let start off acroalis tapasio acroalis tapas ...\n",
              "3               draw panel style event prize  ...  this fun count btw enter like send youand sele...\n",
              "4                          pride contest yay  ...  your art adorable congratulations winning prid...\n",
              "\n",
              "[5 rows x 8 columns]"
            ]
          },
          "metadata": {
            "tags": []
          },
          "execution_count": 71
        }
      ]
    },
    {
      "cell_type": "code",
      "metadata": {
        "colab": {
          "base_uri": "https://localhost:8080/",
          "height": 137
        },
        "id": "3gpyc0d1kBAs",
        "outputId": "36bf70b6-54ef-424c-986d-c8725dcbffda"
      },
      "source": [
        "train[\"Comments\"][2]"
      ],
      "execution_count": null,
      "outputs": [
        {
          "output_type": "execute_result",
          "data": {
            "application/vnd.google.colaboratory.intrinsic+json": {
              "type": "string"
            },
            "text/plain": [
              "'let start off acroalis tapasio acroalis tapas acroalis fantasy world everyone living peacefully is two meteors landed people acroalis ignored them thinking normal phenomena little know meteors contained powerful will waiting check comment pages lostland tapasio lostland hello dear listeners tapas happy th anniversary way yes the lostland running since exact day best celebrate fresh new start long running series find old one here expect spoilers a lot has my comment count help sub read whole thing thus far very interesting wasland world well got attention now jut post day good luck getting others interested xd acroalis tapasio acroalis prologue remake tapas time reborn anew love architecture buildings very unique and moko cool name town otterly human  tapasio otterly human tapas otterly absurd comics whoops commented page ill put hereyou show good use tone values pages far keep going welcome great idea thread haha lol weird climate indeed like characters design is turtle rat either way interesting seeing continuation tomorrow close turtle fox ok updated rules make thread little cleaner pages scroll reading comments comment replies like these so every pages uploaded delete comments that way people scroll see pages rather lots lots comments replies hows sound fare want opinion this acroalis tapasio acroalis tapas acroalis fantasy world everyone living peacefully is two meteors landed people acroalis ignored them thinking normal phenomena little know meteors contained powerful  forgot making april fools comic made this oh snap creepy one interesting premise far ha lol appropriate outside april fools nice use scrolling format here text leads image finally leading bottom panel done pretty effectively here missed last time getting back it like classic cartoony style characters juniorguilherme during fight giant sandworm great seeing draw complex camera angles scene especially two characters charge fightwaweezer as creator whos always late holiday art party feel one lostland tapasio lostland welcome back our crazy tale tapas so guys ready holiday season ive got gifts bought wrapped ready go also work holiday slight bummer holiday pay op though got opportunity spend day family spend it '"
            ]
          },
          "metadata": {
            "tags": []
          },
          "execution_count": 70
        }
      ]
    },
    {
      "cell_type": "code",
      "metadata": {
        "colab": {
          "base_uri": "https://localhost:8080/",
          "height": 304
        },
        "id": "X3WVDnXMaDdo",
        "outputId": "c6656e90-e8cf-416b-dabc-115294ac67b2"
      },
      "source": [
        "train[\"Title\"] = train[\"Title\"].apply(lambda x: \" \".join([Word(word).lemmatize() for word in str(x).split()]))\n",
        "train[\"Original Post\"] = train[\"Original Post\"].apply(lambda x: \" \".join([Word(word).lemmatize() for word in str(x).split()]))\n",
        "train[\"Comments\"] = train[\"Comments\"].apply(lambda x: \" \".join([Word(word).lemmatize() for word in str(x).split()]))\n",
        "train.head()"
      ],
      "execution_count": null,
      "outputs": [
        {
          "output_type": "execute_result",
          "data": {
            "text/html": [
              "<div>\n",
              "<style scoped>\n",
              "    .dataframe tbody tr th:only-of-type {\n",
              "        vertical-align: middle;\n",
              "    }\n",
              "\n",
              "    .dataframe tbody tr th {\n",
              "        vertical-align: top;\n",
              "    }\n",
              "\n",
              "    .dataframe thead th {\n",
              "        text-align: right;\n",
              "    }\n",
              "</style>\n",
              "<table border=\"1\" class=\"dataframe\">\n",
              "  <thead>\n",
              "    <tr style=\"text-align: right;\">\n",
              "      <th></th>\n",
              "      <th>Title</th>\n",
              "      <th>Category</th>\n",
              "      <th>Date</th>\n",
              "      <th>Likes</th>\n",
              "      <th>Num Replies</th>\n",
              "      <th>Num Views</th>\n",
              "      <th>Original Post</th>\n",
              "      <th>Comments</th>\n",
              "    </tr>\n",
              "  </thead>\n",
              "  <tbody>\n",
              "    <tr>\n",
              "      <th>0</th>\n",
              "      <td>july comic challenge get stuff done</td>\n",
              "      <td>Events | Challenges</td>\n",
              "      <td>Jun 28, 2021 12:49 pm</td>\n",
              "      <td>24</td>\n",
              "      <td>300</td>\n",
              "      <td>1700</td>\n",
              "      <td>some day work comic even though really want to...</td>\n",
              "      <td>hi gabriella for july comic challenge ill work...</td>\n",
              "    </tr>\n",
              "    <tr>\n",
              "      <th>1</th>\n",
              "      <td>march comic madness contest final result</td>\n",
              "      <td>Events | Challenges</td>\n",
              "      <td>Jul 20, 2021 7:31 am</td>\n",
              "      <td>20</td>\n",
              "      <td>13</td>\n",
              "      <td>149</td>\n",
              "      <td>hooray the march comic madness contest come cl...</td>\n",
              "      <td>congrats everyone thank much were flattered pi...</td>\n",
              "    </tr>\n",
              "    <tr>\n",
              "      <th>2</th>\n",
              "      <td>your comic here page per day thread</td>\n",
              "      <td>Events | Challenges</td>\n",
              "      <td>Apr 5, 2020 2:21 pm</td>\n",
              "      <td>7</td>\n",
              "      <td>680</td>\n",
              "      <td>7600</td>\n",
              "      <td>a simple sound start first page everyday uploa...</td>\n",
              "      <td>let start off acroalis tapasio acroalis tapa a...</td>\n",
              "    </tr>\n",
              "    <tr>\n",
              "      <th>3</th>\n",
              "      <td>draw panel style event prize</td>\n",
              "      <td>Events | Challenges</td>\n",
              "      <td>Jul 4, 2021 4:23 am</td>\n",
              "      <td>6</td>\n",
              "      <td>4</td>\n",
              "      <td>129</td>\n",
              "      <td>hi done before but wanted let community know t...</td>\n",
              "      <td>this fun count btw enter like send youand sele...</td>\n",
              "    </tr>\n",
              "    <tr>\n",
              "      <th>4</th>\n",
              "      <td>pride contest yay</td>\n",
              "      <td>Events | Challenges</td>\n",
              "      <td>Jun 25, 2021 5:00 pm</td>\n",
              "      <td>30</td>\n",
              "      <td>13</td>\n",
              "      <td>217</td>\n",
              "      <td>yay whenever enter contest immediately forget ...</td>\n",
              "      <td>your art adorable congratulation winning pride...</td>\n",
              "    </tr>\n",
              "  </tbody>\n",
              "</table>\n",
              "</div>"
            ],
            "text/plain": [
              "                                      Title  ...                                           Comments\n",
              "0       july comic challenge get stuff done  ...  hi gabriella for july comic challenge ill work...\n",
              "1  march comic madness contest final result  ...  congrats everyone thank much were flattered pi...\n",
              "2       your comic here page per day thread  ...  let start off acroalis tapasio acroalis tapa a...\n",
              "3              draw panel style event prize  ...  this fun count btw enter like send youand sele...\n",
              "4                         pride contest yay  ...  your art adorable congratulation winning pride...\n",
              "\n",
              "[5 rows x 8 columns]"
            ]
          },
          "metadata": {
            "tags": []
          },
          "execution_count": 72
        }
      ]
    },
    {
      "cell_type": "code",
      "metadata": {
        "colab": {
          "base_uri": "https://localhost:8080/",
          "height": 137
        },
        "id": "8dQfBT8zkKbt",
        "outputId": "97b0e0b3-2141-487b-adcc-529f05a412b6"
      },
      "source": [
        "train[\"Comments\"][2]"
      ],
      "execution_count": null,
      "outputs": [
        {
          "output_type": "execute_result",
          "data": {
            "application/vnd.google.colaboratory.intrinsic+json": {
              "type": "string"
            },
            "text/plain": [
              "'let start off acroalis tapasio acroalis tapa acroalis fantasy world everyone living peacefully is two meteor landed people acroalis ignored them thinking normal phenomenon little know meteor contained powerful will waiting check comment page lostland tapasio lostland hello dear listener tapa happy th anniversary way yes the lostland running since exact day best celebrate fresh new start long running series find old one here expect spoiler a lot ha my comment count help sub read whole thing thus far very interesting wasland world well got attention now jut post day good luck getting others interested xd acroalis tapasio acroalis prologue remake tapa time reborn anew love architecture building very unique and moko cool name town otterly human tapasio otterly human tapa otterly absurd comic whoop commented page ill put hereyou show good use tone value page far keep going welcome great idea thread haha lol weird climate indeed like character design is turtle rat either way interesting seeing continuation tomorrow close turtle fox ok updated rule make thread little cleaner page scroll reading comment comment reply like these so every page uploaded delete comment that way people scroll see page rather lot lot comment reply hows sound fare want opinion this acroalis tapasio acroalis tapa acroalis fantasy world everyone living peacefully is two meteor landed people acroalis ignored them thinking normal phenomenon little know meteor contained powerful forgot making april fool comic made this oh snap creepy one interesting premise far ha lol appropriate outside april fool nice use scrolling format here text lead image finally leading bottom panel done pretty effectively here missed last time getting back it like classic cartoony style character juniorguilherme during fight giant sandworm great seeing draw complex camera angle scene especially two character charge fightwaweezer a creator who always late holiday art party feel one lostland tapasio lostland welcome back our crazy tale tapa so guy ready holiday season ive got gift bought wrapped ready go also work holiday slight bummer holiday pay op though got opportunity spend day family spend it'"
            ]
          },
          "metadata": {
            "tags": []
          },
          "execution_count": 73
        }
      ]
    },
    {
      "cell_type": "code",
      "metadata": {
        "colab": {
          "base_uri": "https://localhost:8080/",
          "height": 304
        },
        "id": "BXIXNkr55Uy6",
        "outputId": "0867130a-3120-4425-b2e1-60fa45cadc01"
      },
      "source": [
        "freq = pd.Series(\" \".join(train[\"Original Post\"]).split()).value_counts()[:100]\n",
        "train[\"Original Post\"] = train[\"Original Post\"].apply(lambda x: \" \".join(x for x in str(x).split() if x not in freq))\n",
        "freq = pd.Series(\" \".join(train[\"Comments\"]).split()).value_counts()[:100]\n",
        "train[\"Comments\"] = train[\"Comments\"].apply(lambda x: \" \".join(x for x in str(x).split() if x not in freq))\n",
        "\n",
        "nonfreq = pd.Series(\" \".join(train[\"Original Post\"]).split()).value_counts()[-100:]\n",
        "train[\"Original Post\"] = train[\"Original Post\"].apply(lambda x: \" \".join(x for x in str(x).split() if x not in nonfreq))\n",
        "nonfreq = pd.Series(\" \".join(train[\"Comments\"]).split()).value_counts()[-50:]\n",
        "train[\"Comments\"] = train[\"Comments\"].apply(lambda x: \" \".join(x for x in str(x).split() if x not in nonfreq))\n",
        "\n",
        "train.head()"
      ],
      "execution_count": null,
      "outputs": [
        {
          "output_type": "execute_result",
          "data": {
            "text/html": [
              "<div>\n",
              "<style scoped>\n",
              "    .dataframe tbody tr th:only-of-type {\n",
              "        vertical-align: middle;\n",
              "    }\n",
              "\n",
              "    .dataframe tbody tr th {\n",
              "        vertical-align: top;\n",
              "    }\n",
              "\n",
              "    .dataframe thead th {\n",
              "        text-align: right;\n",
              "    }\n",
              "</style>\n",
              "<table border=\"1\" class=\"dataframe\">\n",
              "  <thead>\n",
              "    <tr style=\"text-align: right;\">\n",
              "      <th></th>\n",
              "      <th>Title</th>\n",
              "      <th>Category</th>\n",
              "      <th>Date</th>\n",
              "      <th>Likes</th>\n",
              "      <th>Num Replies</th>\n",
              "      <th>Num Views</th>\n",
              "      <th>Original Post</th>\n",
              "      <th>Comments</th>\n",
              "    </tr>\n",
              "  </thead>\n",
              "  <tbody>\n",
              "    <tr>\n",
              "      <th>0</th>\n",
              "      <td>july comic challenge get stuff done</td>\n",
              "      <td>Events | Challenges</td>\n",
              "      <td>Jun 28, 2021 12:49 pm</td>\n",
              "      <td>24</td>\n",
              "      <td>300</td>\n",
              "      <td>1700</td>\n",
              "      <td>some though to wait motivationim starting july...</td>\n",
              "      <td>hi gabriella for july challenge working contin...</td>\n",
              "    </tr>\n",
              "    <tr>\n",
              "      <th>1</th>\n",
              "      <td>march comic madness contest final result</td>\n",
              "      <td>Events | Challenges</td>\n",
              "      <td>Jul 20, 2021 7:31 am</td>\n",
              "      <td>20</td>\n",
              "      <td>13</td>\n",
              "      <td>149</td>\n",
              "      <td>hooray march madness contest close winner deci...</td>\n",
              "      <td>congrats everyone were flattered piece excited...</td>\n",
              "    </tr>\n",
              "    <tr>\n",
              "      <th>2</th>\n",
              "      <td>your comic here page per day thread</td>\n",
              "      <td>Events | Challenges</td>\n",
              "      <td>Apr 5, 2020 2:21 pm</td>\n",
              "      <td>7</td>\n",
              "      <td>680</td>\n",
              "      <td>7600</td>\n",
              "      <td>simple sound everyday upload next strip visual...</td>\n",
              "      <td>let start off acroalis acroalis acroalis fanta...</td>\n",
              "    </tr>\n",
              "    <tr>\n",
              "      <th>3</th>\n",
              "      <td>draw panel style event prize</td>\n",
              "      <td>Events | Challenges</td>\n",
              "      <td>Jul 4, 2021 4:23 am</td>\n",
              "      <td>6</td>\n",
              "      <td>4</td>\n",
              "      <td>129</td>\n",
              "      <td>hi done before wanted community by august th u...</td>\n",
              "      <td>fun count btw enter send youand select image w...</td>\n",
              "    </tr>\n",
              "    <tr>\n",
              "      <th>4</th>\n",
              "      <td>pride contest yay</td>\n",
              "      <td>Events | Challenges</td>\n",
              "      <td>Jun 25, 2021 5:00 pm</td>\n",
              "      <td>30</td>\n",
              "      <td>13</td>\n",
              "      <td>217</td>\n",
              "      <td>yay whenever enter contest immediately forget ...</td>\n",
              "      <td>your adorable congratulation winning pride con...</td>\n",
              "    </tr>\n",
              "  </tbody>\n",
              "</table>\n",
              "</div>"
            ],
            "text/plain": [
              "                                      Title  ...                                           Comments\n",
              "0       july comic challenge get stuff done  ...  hi gabriella for july challenge working contin...\n",
              "1  march comic madness contest final result  ...  congrats everyone were flattered piece excited...\n",
              "2       your comic here page per day thread  ...  let start off acroalis acroalis acroalis fanta...\n",
              "3              draw panel style event prize  ...  fun count btw enter send youand select image w...\n",
              "4                         pride contest yay  ...  your adorable congratulation winning pride con...\n",
              "\n",
              "[5 rows x 8 columns]"
            ]
          },
          "metadata": {
            "tags": []
          },
          "execution_count": 74
        }
      ]
    },
    {
      "cell_type": "code",
      "metadata": {
        "colab": {
          "base_uri": "https://localhost:8080/",
          "height": 137
        },
        "id": "Z3CC0t6ykd82",
        "outputId": "2619a275-41b6-4188-8812-b585d44b6350"
      },
      "source": [
        "train[\"Comments\"][2]"
      ],
      "execution_count": null,
      "outputs": [
        {
          "output_type": "execute_result",
          "data": {
            "application/vnd.google.colaboratory.intrinsic+json": {
              "type": "string"
            },
            "text/plain": [
              "'let start off acroalis acroalis acroalis fantasy everyone living peacefully is meteor landed acroalis ignored them thinking normal phenomenon meteor contained powerful will waiting check comment lostland lostland hello dear listener happy th anniversary yes lostland running exact best celebrate fresh start running old expect spoiler ha comment count sub whole thus far very interesting wasland attention now jut post luck getting others interested xd acroalis acroalis prologue remake reborn anew architecture building very unique moko cool name town otterly human otterly human otterly absurd whoop commented put hereyou show tone value far welcome thread haha lol weird climate indeed design is turtle rat either interesting seeing continuation tomorrow close turtle fox ok updated rule thread cleaner scroll reading comment comment reply these uploaded delete comment scroll rather comment reply hows sound fare opinion acroalis acroalis acroalis fantasy everyone living peacefully is meteor landed acroalis ignored them thinking normal phenomenon meteor contained powerful forgot making april fool made oh snap creepy interesting premise far ha lol appropriate outside april fool nice scrolling format text lead image finally leading bottom panel done pretty effectively missed last getting classic cartoony style juniorguilherme during fight giant sandworm seeing draw complex camera angle scene especially charge fightwaweezer creator who late holiday party lostland lostland welcome our crazy tale guy ready holiday season gift bought wrapped ready holiday slight bummer holiday pay op opportunity spend family spend'"
            ]
          },
          "metadata": {
            "tags": []
          },
          "execution_count": 75
        }
      ]
    },
    {
      "cell_type": "code",
      "metadata": {
        "colab": {
          "base_uri": "https://localhost:8080/",
          "height": 137
        },
        "id": "Z4UZsPBU6HvS",
        "outputId": "8797769f-0236-4611-9449-347d425a4e16"
      },
      "source": [
        "train[\"Post\"] = train[\"Title\"] + \" \" + train[\"Original Post\"] + \" \" + train[\"Comments\"]\n",
        "train[\"Post\"][0]"
      ],
      "execution_count": null,
      "outputs": [
        {
          "output_type": "execute_result",
          "data": {
            "application/vnd.google.colaboratory.intrinsic+json": {
              "type": "string"
            },
            "text/plain": [
              "'july comic challenge get stuff done some though to wait motivationim starting july challenge stuff done everyday guideline try drawwork minimum minute every july anywhere all comicschallenge instagram follow introduce join latecomer welcome freebiesprintable calendar julysocial medium shareable explain event hi gabriella for july challenge working continuing development kindred not main month drawing model sheet looking forward seeing month past tip blog social medium link etc gabriellabalagnacom thanks gabriella hope hi name kiab live pacific north west young told age trying hit goal past fulfilled goal goal finish any question ask away hi kiab sweet gonna fun free share progress is working called open flame yes improve will brainstorming concept not yet hope near future throw already consistently produce week mean working average week anyway challenge maybe will at least increase odds produce four month bonus ironically pacific northwest wave kiabice is intent regarding sharing progress post wip image dive extremely spoilery id choose panel share carefully hey hey represent ahha wasnt heat wave crazy yeah believe post share spoiler kiabice wasnt heat wave crazy oh god our ac unit almost gave yesterday o_o almost degree cooler today god portland designed degree regarding posting individual panel away showing roughtopencilstoinktomarkerflatstomarkershadingtofinished fun live p town too awesome at least ac we ac till tomorrow yes yesterday night breeze nice hot hot yay glad joining upping frequencypage rate sound goal yup share progress sketch thumbnail panel concept today worked scripting today proofreading etc course daily sharing required worry sharing spoiler sharing process sound interesting too seems nice challenge bad exactly finished intend july rest wrist maybe join sketch maybe lurk watch hashtag modelsheets worked reference someday no worry rest wrist free join whenever thanks model sheet tried clean detailed your djinn lovely design model sheet them finally challenge compatible current project will shot diego palacios creator rocky rock superduperdoopyclub legend camelot will aim upload weekly however rocky rock start uploading second week will publicly accept challenge let peer pressure encourage increase productivity welcome diego henceforth shall question pressure daily hold accountable challenge just kidding glad challenge fit excited learn draw literally vouch draw home guess quite same close enough huh sound july busy month is valid writer oooorrrrr for sharing required share link rough draft outline excerptquote link update worked let plan on script working finishing script webtoon just challenge begin everyone free printable calendar challenge used track progress plan certain plan pressed schedule free social medium shareable explain challenge social medium'"
            ]
          },
          "metadata": {
            "tags": []
          },
          "execution_count": 76
        }
      ]
    },
    {
      "cell_type": "code",
      "metadata": {
        "colab": {
          "base_uri": "https://localhost:8080/",
          "height": 137
        },
        "id": "9F60E6oC6ZGk",
        "outputId": "14376910-aaa6-4626-89c9-f5c8b9236ad1"
      },
      "source": [
        "train[\"Post\"][1900]"
      ],
      "execution_count": null,
      "outputs": [
        {
          "output_type": "execute_result",
          "data": {
            "application/vnd.google.colaboratory.intrinsic+json": {
              "type": "string"
            },
            "text/plain": [
              "'new year new start share write novel poetry poetic startwhat rest u to wolf howl poetry corner soon least le burnt toast join library write poetry couple for light mariel paladin handpicked god serve unite decision made born she gifted strong body immense power endurance beauty she given unique weapon designed especially for what lie within managed tense accord human spirit line blur quickly lucella blurred line working reluctantly clean problem smudge society delicate balance between thanx sharing penniwill no poetry yet nimues bar when kaia sommers woke accident changed she cold longer needed sleep seem cast shadow most importantly longer dead she soon discovered however her interesting sharingwent expecting almost bar tender listening tale oo dark posted no elle today written shared anything before nervous all scheduled hello nice meet currently write lowfantasy supernatural genre karana said dead torment living dead write poetry written english nice meet directly kainatarma worry sharing half battle rest keeping poetry short simply rewriting raven with quill pen ring bell updated hahahahaha oh edited mostly realized missed sixth bell type down v written reading direct link latest thanks uh directly mean link direct link collection crap thought inserted another link lol free kill nay nay nay made mistake too blame yourself buddy currently working th dark fantasy angel stead not person all jrr tolkien loved adding poetry place trust youve ever hobbit youll mean pretty made hey add song what wrong of course mmm poetry written focused working while nearly nicely young man forgotten father suddenly forced learn truth meet several interesting god struggle regain footing write poetry then sweet illustratorfriend butterfly thingies just random stuff end sake fun needing let together expect poetry short random prompt them cute fantasy all several particular moment flying töskr gründ fly after many attempt making wing finally pair immediately crash him will able decypher serious sliceoflife mental health issue badass awesome stuff despite stigma handicap abbys hope when wrote book big how change others loving memory karen honor struggle daily mental health issue hopefully will alsooooo welcome family hope fun forget dream resurrected old thread made sharing meet writer joined latest writer camp silence tristan wright captain oxford debate union yet nothing fraud constant anxiety hibiki yukimura transfer student japan whose childhood left unable speak will manage'"
            ]
          },
          "metadata": {
            "tags": []
          },
          "execution_count": 77
        }
      ]
    },
    {
      "cell_type": "code",
      "metadata": {
        "colab": {
          "base_uri": "https://localhost:8080/",
          "height": 371
        },
        "id": "itDzHojllSzQ",
        "outputId": "d74f0ad1-96e6-4f09-9fd4-19a7634e6e00"
      },
      "source": [
        "train[\"Title\"] = train[\"Title\"].apply(lambda x: \" \".join(x for x in str(x).split() if x not in stopwords.words(\"english\")))\n",
        "train[\"Original Post\"] = train[\"Original Post\"].apply(lambda x: \" \".join(x for x in str(x).split() if x not in stopwords.words(\"english\")))\n",
        "train[\"Comments\"] = train[\"Comments\"].apply(lambda x: \" \".join(x for x in str(x).split() if x not in stopwords.words(\"english\")))\n",
        "train.head()"
      ],
      "execution_count": null,
      "outputs": [
        {
          "output_type": "execute_result",
          "data": {
            "text/html": [
              "<div>\n",
              "<style scoped>\n",
              "    .dataframe tbody tr th:only-of-type {\n",
              "        vertical-align: middle;\n",
              "    }\n",
              "\n",
              "    .dataframe tbody tr th {\n",
              "        vertical-align: top;\n",
              "    }\n",
              "\n",
              "    .dataframe thead th {\n",
              "        text-align: right;\n",
              "    }\n",
              "</style>\n",
              "<table border=\"1\" class=\"dataframe\">\n",
              "  <thead>\n",
              "    <tr style=\"text-align: right;\">\n",
              "      <th></th>\n",
              "      <th>Title</th>\n",
              "      <th>Category</th>\n",
              "      <th>Date</th>\n",
              "      <th>Likes</th>\n",
              "      <th>Num Replies</th>\n",
              "      <th>Num Views</th>\n",
              "      <th>Original Post</th>\n",
              "      <th>Comments</th>\n",
              "      <th>Post</th>\n",
              "    </tr>\n",
              "  </thead>\n",
              "  <tbody>\n",
              "    <tr>\n",
              "      <th>0</th>\n",
              "      <td>july comic challenge get stuff done</td>\n",
              "      <td>Events | Challenges</td>\n",
              "      <td>Jun 28, 2021 12:49 pm</td>\n",
              "      <td>24</td>\n",
              "      <td>300</td>\n",
              "      <td>1700</td>\n",
              "      <td>though wait motivationim starting july challen...</td>\n",
              "      <td>hi gabriella july challenge working continuing...</td>\n",
              "      <td>july comic challenge get stuff done some thoug...</td>\n",
              "    </tr>\n",
              "    <tr>\n",
              "      <th>1</th>\n",
              "      <td>march comic madness contest final result</td>\n",
              "      <td>Events | Challenges</td>\n",
              "      <td>Jul 20, 2021 7:31 am</td>\n",
              "      <td>20</td>\n",
              "      <td>13</td>\n",
              "      <td>149</td>\n",
              "      <td>hooray march madness contest close winner deci...</td>\n",
              "      <td>congrats everyone flattered piece excited judg...</td>\n",
              "      <td>march comic madness contest final result hoora...</td>\n",
              "    </tr>\n",
              "    <tr>\n",
              "      <th>2</th>\n",
              "      <td>comic page per day thread</td>\n",
              "      <td>Events | Challenges</td>\n",
              "      <td>Apr 5, 2020 2:21 pm</td>\n",
              "      <td>7</td>\n",
              "      <td>680</td>\n",
              "      <td>7600</td>\n",
              "      <td>simple sound everyday upload next strip visual...</td>\n",
              "      <td>let start acroalis acroalis acroalis fantasy e...</td>\n",
              "      <td>your comic here page per day thread simple sou...</td>\n",
              "    </tr>\n",
              "    <tr>\n",
              "      <th>3</th>\n",
              "      <td>draw panel style event prize</td>\n",
              "      <td>Events | Challenges</td>\n",
              "      <td>Jul 4, 2021 4:23 am</td>\n",
              "      <td>6</td>\n",
              "      <td>4</td>\n",
              "      <td>129</td>\n",
              "      <td>hi done wanted community august th uploading t...</td>\n",
              "      <td>fun count btw enter send youand select image w...</td>\n",
              "      <td>draw panel style event prize hi done before wa...</td>\n",
              "    </tr>\n",
              "    <tr>\n",
              "      <th>4</th>\n",
              "      <td>pride contest yay</td>\n",
              "      <td>Events | Challenges</td>\n",
              "      <td>Jun 25, 2021 5:00 pm</td>\n",
              "      <td>30</td>\n",
              "      <td>13</td>\n",
              "      <td>217</td>\n",
              "      <td>yay whenever enter contest immediately forget ...</td>\n",
              "      <td>adorable congratulation winning pride contest ...</td>\n",
              "      <td>pride contest yay yay whenever enter contest i...</td>\n",
              "    </tr>\n",
              "  </tbody>\n",
              "</table>\n",
              "</div>"
            ],
            "text/plain": [
              "                                      Title  ...                                               Post\n",
              "0       july comic challenge get stuff done  ...  july comic challenge get stuff done some thoug...\n",
              "1  march comic madness contest final result  ...  march comic madness contest final result hoora...\n",
              "2                 comic page per day thread  ...  your comic here page per day thread simple sou...\n",
              "3              draw panel style event prize  ...  draw panel style event prize hi done before wa...\n",
              "4                         pride contest yay  ...  pride contest yay yay whenever enter contest i...\n",
              "\n",
              "[5 rows x 9 columns]"
            ]
          },
          "metadata": {
            "tags": []
          },
          "execution_count": 79
        }
      ]
    },
    {
      "cell_type": "code",
      "metadata": {
        "colab": {
          "base_uri": "https://localhost:8080/",
          "height": 1000
        },
        "id": "hh0qv3rIk3gE",
        "outputId": "b007c3b3-d6fe-4e68-d02c-516ffff10f1f"
      },
      "source": [
        "def get_top_ngram(corpus, n=None):\n",
        "    vec = CountVectorizer(ngram_range=(n, n)).fit(corpus)\n",
        "    bag_of_words = vec.transform(corpus)\n",
        "    sum_words = bag_of_words.sum(axis=0)\n",
        "    words_freq = [(word, sum_words[0, idx]) for word, idx in\n",
        "                  vec.vocabulary_.items()]\n",
        "    words_freq = sorted(words_freq, key=lambda x: x[1], reverse=True)\n",
        "    return words_freq[:10]\n",
        "\n",
        "def show_wordcloud(data):\n",
        "    wordcloud = WordCloud(\n",
        "        background_color=\"white\",\n",
        "        stopwords=stopwords.words(\"english\"),\n",
        "        max_words=100,\n",
        "        max_font_size=30,\n",
        "        scale=3,\n",
        "        random_state=1)\n",
        "    wordcloud = wordcloud.generate(str(data))\n",
        "    fig = plt.figure(1, figsize=(12, 12))\n",
        "    plt.axis(\"off\")\n",
        "    plt.imshow(wordcloud)\n",
        "    plt.show()\n",
        "\n",
        "new = train[\"Post\"].str.split()\n",
        "new = new.values.tolist()\n",
        "corpus = [word for i in new for word in i]\n",
        "\n",
        "top_n_unigrams = get_top_ngram((train[\"Post\"]), 1)[:10]\n",
        "x,y = map(list, zip(*top_n_unigrams))\n",
        "sns.barplot(x=y, y=x)\n",
        "plt.show()\n",
        "\n",
        "top_n_bigrams = get_top_ngram((train[\"Post\"]), 2)[:10]\n",
        "x,y = map(list, zip(*top_n_bigrams))\n",
        "sns.barplot(x=y, y=x)\n",
        "plt.show()\n",
        "\n",
        "top_tri_grams = get_top_ngram((train[\"Post\"]), 3)[:10]\n",
        "x, y = map(list, zip(*top_tri_grams))\n",
        "sns.barplot(x=y, y=x)\n",
        "plt.show()\n",
        "\n",
        "\"\"\" Word Cloud \"\"\"\n",
        "show_wordcloud(corpus)"
      ],
      "execution_count": null,
      "outputs": [
        {
          "output_type": "display_data",
          "data": {
            "image/png": "[encoded data removed]",
            "text/plain": [
              "<Figure size 432x288 with 1 Axes>"
            ]
          },
          "metadata": {
            "tags": [],
            "needs_background": "light"
          }
        },
        {
          "output_type": "display_data",
          "data": {
            "image/png": "[encoded data removed]",
            "text/plain": [
              "<Figure size 432x288 with 1 Axes>"
            ]
          },
          "metadata": {
            "tags": [],
            "needs_background": "light"
          }
        },
        {
          "output_type": "display_data",
          "data": {
            "image/png": "[encoded data removed]",
            "text/plain": [
              "<Figure size 432x288 with 1 Axes>"
            ]
          },
          "metadata": {
            "tags": [],
            "needs_background": "light"
          }
        },
        {
          "output_type": "display_data",
          "data": {
            "image/png": "[encoded data removed]",
            "text/plain": [
              "<Figure size 864x864 with 1 Axes>"
            ]
          },
          "metadata": {
            "tags": [],
            "needs_background": "light"
          }
        }
      ]
    },
    {
      "cell_type": "code",
      "metadata": {
        "id": "pYZYT5vV6n9S"
      },
      "source": [
        "train.to_csv(\"CleanedTapasData.csv\", encoding='utf-8', index=False)"
      ],
      "execution_count": null,
      "outputs": []
    }
  ]
}