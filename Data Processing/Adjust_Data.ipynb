{
  "nbformat": 4,
  "nbformat_minor": 0,
  "metadata": {
    "colab": {
      "name": "Adjust Data.ipynb",
      "provenance": [],
      "collapsed_sections": [],
      "authorship_tag": "ABX9TyPyBCP8KnM9mQU+Ef8Se0bm"
    },
    "kernelspec": {
      "name": "python3",
      "display_name": "Python 3"
    },
    "language_info": {
      "name": "python"
    }
  },
  "cells": [
    {
      "cell_type": "code",
      "metadata": {
        "id": "xL1hOxCH-XpC"
      },
      "source": [
        "import pandas as pd\n",
        "import nltk\n",
        "import random as rand"
      ],
      "execution_count": null,
      "outputs": []
    },
    {
      "cell_type": "code",
      "metadata": {
        "colab": {
          "base_uri": "https://localhost:8080/",
          "height": 371
        },
        "id": "Wgq0Y0F9-cJP",
        "outputId": "86a5e77d-ece9-41c0-d377-d30e429c894a"
      },
      "source": [
        "data = pd.read_csv(\"/content/CleanedTapasData.csv\")\n",
        "\n",
        "data.head()"
      ],
      "execution_count": null,
      "outputs": [
        {
          "output_type": "execute_result",
          "data": {
            "text/html": [
              "<div>\n",
              "<style scoped>\n",
              "    .dataframe tbody tr th:only-of-type {\n",
              "        vertical-align: middle;\n",
              "    }\n",
              "\n",
              "    .dataframe tbody tr th {\n",
              "        vertical-align: top;\n",
              "    }\n",
              "\n",
              "    .dataframe thead th {\n",
              "        text-align: right;\n",
              "    }\n",
              "</style>\n",
              "<table border=\"1\" class=\"dataframe\">\n",
              "  <thead>\n",
              "    <tr style=\"text-align: right;\">\n",
              "      <th></th>\n",
              "      <th>Title</th>\n",
              "      <th>Category</th>\n",
              "      <th>Date</th>\n",
              "      <th>Likes</th>\n",
              "      <th>Num Replies</th>\n",
              "      <th>Num Views</th>\n",
              "      <th>Original Post</th>\n",
              "      <th>Comments</th>\n",
              "      <th>Post</th>\n",
              "    </tr>\n",
              "  </thead>\n",
              "  <tbody>\n",
              "    <tr>\n",
              "      <th>0</th>\n",
              "      <td>july comic challenge get stuff done</td>\n",
              "      <td>Events | Challenges</td>\n",
              "      <td>Jun 28, 2021 12:49 pm</td>\n",
              "      <td>24</td>\n",
              "      <td>300</td>\n",
              "      <td>1700</td>\n",
              "      <td>though wait motivationim starting july challen...</td>\n",
              "      <td>hi gabriella july challenge working continuing...</td>\n",
              "      <td>july comic challenge get stuff done some thoug...</td>\n",
              "    </tr>\n",
              "    <tr>\n",
              "      <th>1</th>\n",
              "      <td>march comic madness contest final result</td>\n",
              "      <td>Events | Challenges</td>\n",
              "      <td>Jul 20, 2021 7:31 am</td>\n",
              "      <td>20</td>\n",
              "      <td>13</td>\n",
              "      <td>149</td>\n",
              "      <td>hooray march madness contest close winner deci...</td>\n",
              "      <td>congrats everyone flattered piece excited judg...</td>\n",
              "      <td>march comic madness contest final result hoora...</td>\n",
              "    </tr>\n",
              "    <tr>\n",
              "      <th>2</th>\n",
              "      <td>comic page per day thread</td>\n",
              "      <td>Events | Challenges</td>\n",
              "      <td>Apr 5, 2020 2:21 pm</td>\n",
              "      <td>7</td>\n",
              "      <td>680</td>\n",
              "      <td>7600</td>\n",
              "      <td>simple sound everyday upload next strip visual...</td>\n",
              "      <td>let start acroalis acroalis acroalis fantasy e...</td>\n",
              "      <td>your comic here page per day thread simple sou...</td>\n",
              "    </tr>\n",
              "    <tr>\n",
              "      <th>3</th>\n",
              "      <td>draw panel style event prize</td>\n",
              "      <td>Events | Challenges</td>\n",
              "      <td>Jul 4, 2021 4:23 am</td>\n",
              "      <td>6</td>\n",
              "      <td>4</td>\n",
              "      <td>129</td>\n",
              "      <td>hi done wanted community august th uploading t...</td>\n",
              "      <td>fun count btw enter send youand select image w...</td>\n",
              "      <td>draw panel style event prize hi done before wa...</td>\n",
              "    </tr>\n",
              "    <tr>\n",
              "      <th>4</th>\n",
              "      <td>pride contest yay</td>\n",
              "      <td>Events | Challenges</td>\n",
              "      <td>Jun 25, 2021 5:00 pm</td>\n",
              "      <td>30</td>\n",
              "      <td>13</td>\n",
              "      <td>217</td>\n",
              "      <td>yay whenever enter contest immediately forget ...</td>\n",
              "      <td>adorable congratulation winning pride contest ...</td>\n",
              "      <td>pride contest yay yay whenever enter contest i...</td>\n",
              "    </tr>\n",
              "  </tbody>\n",
              "</table>\n",
              "</div>"
            ],
            "text/plain": [
              "                                      Title  ...                                               Post\n",
              "0       july comic challenge get stuff done  ...  july comic challenge get stuff done some thoug...\n",
              "1  march comic madness contest final result  ...  march comic madness contest final result hoora...\n",
              "2                 comic page per day thread  ...  your comic here page per day thread simple sou...\n",
              "3              draw panel style event prize  ...  draw panel style event prize hi done before wa...\n",
              "4                         pride contest yay  ...  pride contest yay yay whenever enter contest i...\n",
              "\n",
              "[5 rows x 9 columns]"
            ]
          },
          "metadata": {
            "tags": []
          },
          "execution_count": 229
        }
      ]
    },
    {
      "cell_type": "code",
      "metadata": {
        "colab": {
          "base_uri": "https://localhost:8080/"
        },
        "id": "LvSR0jz8hwLy",
        "outputId": "c2b5da4a-6bd5-4f5f-f872-14ccd9fb6dd5"
      },
      "source": [
        "data.groupby([\"Category\"]).size()"
      ],
      "execution_count": null,
      "outputs": [
        {
          "output_type": "execute_result",
          "data": {
            "text/plain": [
              "Category\n",
              "Art | Comics                    1006\n",
              "Collaborations                   839\n",
              "Events | Challenges              619\n",
              "Off Topic                       1005\n",
              "Promotions                       977\n",
              "Questions                       1027\n",
              "Reviews | Feedback               677\n",
              "Tech Support | Site Feedback     953\n",
              "Writing | Novels                 999\n",
              "dtype: int64"
            ]
          },
          "metadata": {
            "tags": []
          },
          "execution_count": 230
        }
      ]
    },
    {
      "cell_type": "code",
      "metadata": {
        "colab": {
          "base_uri": "https://localhost:8080/",
          "height": 430
        },
        "id": "cgbKzMXcejpJ",
        "outputId": "f88e8553-2190-4605-8090-69cb43b90a0e"
      },
      "source": [
        "data.groupby([\"Category\"]).size().plot.bar()"
      ],
      "execution_count": null,
      "outputs": [
        {
          "output_type": "execute_result",
          "data": {
            "text/plain": [
              "<matplotlib.axes._subplots.AxesSubplot at 0x7fc4816a2b10>"
            ]
          },
          "metadata": {
            "tags": []
          },
          "execution_count": 231
        },
        {
          "output_type": "display_data",
          "data": {
            "image/png": "[encoded data removed]",
            "text/plain": [
              "<Figure size 432x288 with 1 Axes>"
            ]
          },
          "metadata": {
            "tags": [],
            "needs_background": "light"
          }
        }
      ]
    },
    {
      "cell_type": "code",
      "metadata": {
        "colab": {
          "base_uri": "https://localhost:8080/",
          "height": 646
        },
        "id": "SfiEERl5RCPo",
        "outputId": "42449e2b-fe7a-4106-ab00-8a4de53d6834"
      },
      "source": [
        "groups = data.groupby([\"Category\"])\n",
        "groups.head(1)"
      ],
      "execution_count": null,
      "outputs": [
        {
          "output_type": "execute_result",
          "data": {
            "text/html": [
              "<div>\n",
              "<style scoped>\n",
              "    .dataframe tbody tr th:only-of-type {\n",
              "        vertical-align: middle;\n",
              "    }\n",
              "\n",
              "    .dataframe tbody tr th {\n",
              "        vertical-align: top;\n",
              "    }\n",
              "\n",
              "    .dataframe thead th {\n",
              "        text-align: right;\n",
              "    }\n",
              "</style>\n",
              "<table border=\"1\" class=\"dataframe\">\n",
              "  <thead>\n",
              "    <tr style=\"text-align: right;\">\n",
              "      <th></th>\n",
              "      <th>Title</th>\n",
              "      <th>Category</th>\n",
              "      <th>Date</th>\n",
              "      <th>Likes</th>\n",
              "      <th>Num Replies</th>\n",
              "      <th>Num Views</th>\n",
              "      <th>Original Post</th>\n",
              "      <th>Comments</th>\n",
              "      <th>Post</th>\n",
              "    </tr>\n",
              "  </thead>\n",
              "  <tbody>\n",
              "    <tr>\n",
              "      <th>0</th>\n",
              "      <td>july comic challenge get stuff done</td>\n",
              "      <td>Events | Challenges</td>\n",
              "      <td>Jun 28, 2021 12:49 pm</td>\n",
              "      <td>24</td>\n",
              "      <td>300</td>\n",
              "      <td>1700</td>\n",
              "      <td>though wait motivationim starting july challen...</td>\n",
              "      <td>hi gabriella july challenge working continuing...</td>\n",
              "      <td>july comic challenge get stuff done some thoug...</td>\n",
              "    </tr>\n",
              "    <tr>\n",
              "      <th>619</th>\n",
              "      <td>tapa adventuring rp</td>\n",
              "      <td>Off Topic</td>\n",
              "      <td>Nov 28, 2020 12:45 am</td>\n",
              "      <td>8</td>\n",
              "      <td>17800</td>\n",
              "      <td>24300</td>\n",
              "      <td>hey mood roleplaying present adventuring rp no...</td>\n",
              "      <td>created thread set adventurefeel free enter sc...</td>\n",
              "      <td>tapa adventuring rp hey mood roleplaying again...</td>\n",
              "    </tr>\n",
              "    <tr>\n",
              "      <th>1624</th>\n",
              "      <td>new help section new creator looking refresher</td>\n",
              "      <td>Art | Comics</td>\n",
              "      <td>Jul 23, 2020 10:41 am</td>\n",
              "      <td>22</td>\n",
              "      <td>11</td>\n",
              "      <td>823</td>\n",
              "      <td>premium somethings popular trending</td>\n",
              "      <td>isabell went section found quite helpful stuff...</td>\n",
              "      <td>new help section new creator and looking refre...</td>\n",
              "    </tr>\n",
              "    <tr>\n",
              "      <th>2630</th>\n",
              "      <td>tapa paster novelist miqinviolin</td>\n",
              "      <td>Writing | Novels</td>\n",
              "      <td>Dec 15, 2020 3:26 pm</td>\n",
              "      <td>17</td>\n",
              "      <td>6</td>\n",
              "      <td>399</td>\n",
              "      <td>violin fcking legend nothing say convince othe...</td>\n",
              "      <td>big thanks violin violin format future bless v...</td>\n",
              "      <td>tapa paster novelist miqinviolin violin fcking...</td>\n",
              "    </tr>\n",
              "    <tr>\n",
              "      <th>3629</th>\n",
              "      <td>action scifi series share away ill check</td>\n",
              "      <td>Reviews | Feedback</td>\n",
              "      <td>Oct 8, 2020 7:50 am</td>\n",
              "      <td>21</td>\n",
              "      <td>132</td>\n",
              "      <td>1100</td>\n",
              "      <td>action scifi genre smaller compared otherspart...</td>\n",
              "      <td>oh scifi action genre scifi action thrillercur...</td>\n",
              "      <td>have action scifi series share away ill check ...</td>\n",
              "    </tr>\n",
              "    <tr>\n",
              "      <th>4306</th>\n",
              "      <td>submitting collaboration request</td>\n",
              "      <td>Collaborations</td>\n",
              "      <td>Mar 3, 2020 11:35 am</td>\n",
              "      <td>29</td>\n",
              "      <td>7</td>\n",
              "      <td>3700</td>\n",
              "      <td>hey amazing recommendation change thanks expla...</td>\n",
              "      <td>thanks check post change anything whats differ...</td>\n",
              "      <td>before submitting collaboration request hey am...</td>\n",
              "    </tr>\n",
              "    <tr>\n",
              "      <th>5145</th>\n",
              "      <td>doe anyone use comicad network</td>\n",
              "      <td>Questions</td>\n",
              "      <td>Feb 10, 2021 7:54 am</td>\n",
              "      <td>2</td>\n",
              "      <td>7</td>\n",
              "      <td>225</td>\n",
              "      <td>grow audience knowcomicad place advertise game...</td>\n",
              "      <td>next best project wonderful ended giving inves...</td>\n",
              "      <td>doe anyone use comicad network grow audience k...</td>\n",
              "    </tr>\n",
              "    <tr>\n",
              "      <th>6172</th>\n",
              "      <td>bug early access comic dont remember place</td>\n",
              "      <td>Tech Support | Site Feedback</td>\n",
              "      <td>Feb 25, 2021 10:24 am</td>\n",
              "      <td>1</td>\n",
              "      <td>5</td>\n",
              "      <td>120</td>\n",
              "      <td>month amount data notification early access su...</td>\n",
              "      <td>sort fix applied affected secondmostrecent upd...</td>\n",
              "      <td>bug early access comic dont remember place mon...</td>\n",
              "    </tr>\n",
              "    <tr>\n",
              "      <th>7125</th>\n",
              "      <td>milestone party mega thread killed one</td>\n",
              "      <td>Promotions</td>\n",
              "      <td>Sep 15, 2020 2:41 pm</td>\n",
              "      <td>52</td>\n",
              "      <td>586</td>\n",
              "      <td>7200</td>\n",
              "      <td>hello folk cut surplus milestone celebration t...</td>\n",
              "      <td>fang fractal paranormal romance vampire reveng...</td>\n",
              "      <td>milestone party mega thread that killed one he...</td>\n",
              "    </tr>\n",
              "  </tbody>\n",
              "</table>\n",
              "</div>"
            ],
            "text/plain": [
              "                                               Title  ...                                               Post\n",
              "0                july comic challenge get stuff done  ...  july comic challenge get stuff done some thoug...\n",
              "619                              tapa adventuring rp  ...  tapa adventuring rp hey mood roleplaying again...\n",
              "1624  new help section new creator looking refresher  ...  new help section new creator and looking refre...\n",
              "2630                tapa paster novelist miqinviolin  ...  tapa paster novelist miqinviolin violin fcking...\n",
              "3629        action scifi series share away ill check  ...  have action scifi series share away ill check ...\n",
              "4306                submitting collaboration request  ...  before submitting collaboration request hey am...\n",
              "5145                  doe anyone use comicad network  ...  doe anyone use comicad network grow audience k...\n",
              "6172      bug early access comic dont remember place  ...  bug early access comic dont remember place mon...\n",
              "7125          milestone party mega thread killed one  ...  milestone party mega thread that killed one he...\n",
              "\n",
              "[9 rows x 9 columns]"
            ]
          },
          "metadata": {
            "tags": []
          },
          "execution_count": 232
        }
      ]
    },
    {
      "cell_type": "code",
      "metadata": {
        "colab": {
          "base_uri": "https://localhost:8080/"
        },
        "id": "NqkrEqE6oaVs",
        "outputId": "549c2b9e-3f1f-4e3a-d99f-537c3aab07e4"
      },
      "source": [
        "events_and_challenges = groups.get_group(\"Events | Challenges\")\n",
        "events_and_challenges.index"
      ],
      "execution_count": null,
      "outputs": [
        {
          "output_type": "execute_result",
          "data": {
            "text/plain": [
              "Int64Index([  0,   1,   2,   3,   4,   5,   6,   7,   8,   9,\n",
              "            ...\n",
              "            609, 610, 611, 612, 613, 614, 615, 616, 617, 618],\n",
              "           dtype='int64', length=619)"
            ]
          },
          "metadata": {
            "tags": []
          },
          "execution_count": 233
        }
      ]
    },
    {
      "cell_type": "code",
      "metadata": {
        "id": "KubuBshHz4he"
      },
      "source": [
        "def post_fuse(category):\n",
        "  return category[\"Post\"][rand.randint(0, len(category) - 1)] + \" \" + category[\"Post\"][rand.randint(0, len(category) - 1)] + category[\"Title\"][rand.randint(0, len(category) - 1)]"
      ],
      "execution_count": null,
      "outputs": []
    },
    {
      "cell_type": "code",
      "metadata": {
        "id": "AAyhha38JmUS"
      },
      "source": [
        "pre_df = [pd.DataFrame({column:(post_fuse(events_and_challenges) if column == \"Post\" else \"Events | Challenges\" if column == \"Category\" else None) for column in list(data.columns)}, index=[i]) for i in range(300)]"
      ],
      "execution_count": null,
      "outputs": []
    },
    {
      "cell_type": "code",
      "metadata": {
        "colab": {
          "base_uri": "https://localhost:8080/",
          "height": 137
        },
        "id": "tJTTdq-IxPSt",
        "outputId": "acb3dced-53f2-4089-a5bf-aa99b96f80f5"
      },
      "source": [
        "pre_df.append(events_and_challenges)\n",
        "events_and_challenges = pd.concat(pre_df, ignore_index=True)\n",
        "events_and_challenges[\"Post\"][5]"
      ],
      "execution_count": null,
      "outputs": [
        {
          "output_type": "execute_result",
          "data": {
            "application/vnd.google.colaboratory.intrinsic+json": {
              "type": "string"
            },
            "text/plain": [
              "'describe room create comic might fun ridiculous amount drawer store favourite graphic collection random toy poster which largely seem star war related design backyard neighbour nothing exceptional right currently dark raining heavy rain bouncing garden shed x poster wall graphic shelf desk working computer drawing hand paper everywhere swimming yet now wreck various stuff junk haha yeah room quite messy too spent afternoon today whilst listening film soundtrack lol meant clean chain chain serial killer type chain hook them standard gardenvariety jacob marley style chain messy mail various paper clothes movie lying around clothes cleaned put away coz havent yet working stuff massively behind part lie bed lazy today part nudging stuff done tv regular computer screen laptop cintiq connected laptop sitting old wooden desk bought second hand shop wooden kitchen chair close old area immaculate rest room covered miscellaneous trash old bill clothes whatever else assed place for home carpet clean free junk junk desk dresser flat surface put on big wooden desk pixar lamp lol laptop keyboard because laptop keyboard dead mouse pencil paper clothes magazine towel desk yeah chaos table glass serve lightbox table superbig tupperwareplastic box ot supply another table printer scanner half room lol is cheezy next shamlessly link everyone husband share office three desk standing desk left enter room mine far end glass drawing desk computer is smaller expect desk deep wall painted light palm green calm relaxing closet door brown compliment white trim white door outlet flooring brown sorta tropical we wall now husband old star war poster kid vintage poster lol bird picture around room artpaintings photo middle large wall desk desk large white book shelf house almost graphic animation book random reference book part with stuffed animal top shelf toy scattered around book window large tree front yard beyond neighbor miniature horse front yard tree bush resident bird hear airplane private plane mostly flying head were wanted office comfortable possible disgusting area crammed corner bedroom no poster wall were apartment pretty strict rule model lina inverse stare workjudging megourrys too cheerful kind vacant mindless couple mismatched ikea bookshelf scratchanddent section full secondhand manga brought japan important our cat mini kitty tower next complains knock drawing stuff onto floor desk multiple glass shelf cause call them side with laptop spooky happened plugging charger left untouched summer top shelf p cuz imma gamer mid shelf desktop pc built exhaust fan installed outside case worry everyday itll explode seems run fine guess job bottom shelf using tv pc monitor keyboard surrounded sticky note important reminder animal drawing list cluttering desk thatll require couple paragraph living room next door desk computer messy maybe toy wire document hard drive next desk full paper book full crappy doodle bedroom bedroom limited number outlet deal everyone pestering singleroom apartment everythings drawing room bed kitchen tablechairs fricking noisy fridge etc kitchen machinery desk on wall band poster makeup advertisement cut magazine pretty etc etc expect average apartment oh desk covered paper book random junk too just bedroom exactly messy entirely clean organized mess nothing exceptional standard bedroom fare bed bookshelf closet course desk monitor tablet computer tower living room quite nice space ever married wife teaching live neat march comic madness contest final result hooray march madness contest close winner decided again say thank behalf judge participating sticking without ado winner category direction place kaydreamers blue star rebellion runner up carolhildebrands heterochromia category place danielrkms unstoppable monkey bunny runner up joker_seqartists katran category place superrazzs supervillainy runner up migxmegs purple ribbon winner congrats all reiterate prize last announcement poll running prize be money fanart fanart poll prize contest listed place category receive fully rendered piece digital winner choice simple background drawn indigoshirtprod runner category receive completed digital line drawing choice simple background drawn cosmicnano all winner receive lovely detailed positive review written movienut to begin discussion fanart contact respective judge private message forum scorecard winner participant send indigoshirtprod private message forum preferred email send pdf file scorecard try timely fashion contacting participant ask scorecard ensure miss opportunity theirs contest announcement thanks participating congrats winner congrats everyone were flattered piece excited judge hard champ wow job done congrats winner congrats judge completing congrats both winner judge congratulation everyone putting together teared started dancing turn out attempt riding pony pretty terrible goto dance equally baffling oh goodness exciting flattering bed definitely able sleep now haha message tomorrow morning scorecard congrats yall looking forward seeing just judge spent free omg runner direction taking contest selecting runner ups beyond flattered happy honour selected alongside many cool congrats rest winner job man deserved toldya dialogue hey thanks appreciate your crazy fun aspire succinct dialogue congrats kaydreamer migxmeg guy deserve not familiar others congrats too oh cool spot arranging contest sending message big congrats winner big thanks judge putting together cool thorough endeavoraccomplishment one met'"
            ]
          },
          "metadata": {
            "tags": []
          },
          "execution_count": 236
        }
      ]
    },
    {
      "cell_type": "code",
      "metadata": {
        "id": "97ZZ1wAKoa9P"
      },
      "source": [
        "reviews_and_feedback = groups.get_group(\"Reviews | Feedback\")\n",
        "reviews_and_feedback = reviews_and_feedback.reset_index(drop=True)"
      ],
      "execution_count": null,
      "outputs": []
    },
    {
      "cell_type": "code",
      "metadata": {
        "id": "2cisqwZLXCkX"
      },
      "source": [
        "pre_df = [pd.DataFrame({column:(post_fuse(reviews_and_feedback) if column == \"Post\" else \"Reviews | Feedback\" if column == \"Category\" else None) for column in list(data.columns)}, index=[i]) for i in range(300)]"
      ],
      "execution_count": null,
      "outputs": []
    },
    {
      "cell_type": "code",
      "metadata": {
        "colab": {
          "base_uri": "https://localhost:8080/",
          "height": 35
        },
        "id": "U8AbGrXKL29U",
        "outputId": "93e89034-70bd-46e3-e4d1-5d9224921138"
      },
      "source": [
        "pre_df.append(reviews_and_feedback)\n",
        "reviews_and_feedback = pd.concat(pre_df, ignore_index=True)\n",
        "reviews_and_feedback[\"Category\"][5]"
      ],
      "execution_count": null,
      "outputs": [
        {
          "output_type": "execute_result",
          "data": {
            "application/vnd.google.colaboratory.intrinsic+json": {
              "type": "string"
            },
            "text/plain": [
              "'Reviews | Feedback'"
            ]
          },
          "metadata": {
            "tags": []
          },
          "execution_count": 239
        }
      ]
    },
    {
      "cell_type": "code",
      "metadata": {
        "id": "WXZHmv_mNnQj"
      },
      "source": [
        "data = data.drop(data[data[\"Category\"] == \"Events | Challenges\"].index)\n",
        "data = data.drop(data[data[\"Category\"] == \"Reviews | Feedback\"].index)"
      ],
      "execution_count": null,
      "outputs": []
    },
    {
      "cell_type": "code",
      "metadata": {
        "colab": {
          "base_uri": "https://localhost:8080/",
          "height": 430
        },
        "id": "MymotzybODrD",
        "outputId": "2bed2da1-6798-4894-c969-418f29c972f0"
      },
      "source": [
        "data.groupby([\"Category\"]).size().plot.bar()"
      ],
      "execution_count": null,
      "outputs": [
        {
          "output_type": "execute_result",
          "data": {
            "text/plain": [
              "<matplotlib.axes._subplots.AxesSubplot at 0x7fc48250f510>"
            ]
          },
          "metadata": {
            "tags": []
          },
          "execution_count": 241
        },
        {
          "output_type": "display_data",
          "data": {
            "image/png": "[encoded data removed]",
            "text/plain": [
              "<Figure size 432x288 with 1 Axes>"
            ]
          },
          "metadata": {
            "tags": [],
            "needs_background": "light"
          }
        }
      ]
    },
    {
      "cell_type": "code",
      "metadata": {
        "colab": {
          "base_uri": "https://localhost:8080/",
          "height": 753
        },
        "id": "jhP0QX2DOGd5",
        "outputId": "5c23c35a-127c-4469-8862-e1dcaa9c7e42"
      },
      "source": [
        "new_df = [data, events_and_challenges, reviews_and_feedback]\n",
        "data = pd.concat(new_df, ignore_index=True)\n",
        "data.reset_index(drop=True)"
      ],
      "execution_count": null,
      "outputs": [
        {
          "output_type": "execute_result",
          "data": {
            "text/html": [
              "<div>\n",
              "<style scoped>\n",
              "    .dataframe tbody tr th:only-of-type {\n",
              "        vertical-align: middle;\n",
              "    }\n",
              "\n",
              "    .dataframe tbody tr th {\n",
              "        vertical-align: top;\n",
              "    }\n",
              "\n",
              "    .dataframe thead th {\n",
              "        text-align: right;\n",
              "    }\n",
              "</style>\n",
              "<table border=\"1\" class=\"dataframe\">\n",
              "  <thead>\n",
              "    <tr style=\"text-align: right;\">\n",
              "      <th></th>\n",
              "      <th>Title</th>\n",
              "      <th>Category</th>\n",
              "      <th>Date</th>\n",
              "      <th>Likes</th>\n",
              "      <th>Num Replies</th>\n",
              "      <th>Num Views</th>\n",
              "      <th>Original Post</th>\n",
              "      <th>Comments</th>\n",
              "      <th>Post</th>\n",
              "    </tr>\n",
              "  </thead>\n",
              "  <tbody>\n",
              "    <tr>\n",
              "      <th>0</th>\n",
              "      <td>tapa adventuring rp</td>\n",
              "      <td>Off Topic</td>\n",
              "      <td>Nov 28, 2020 12:45 am</td>\n",
              "      <td>8</td>\n",
              "      <td>17800</td>\n",
              "      <td>24300</td>\n",
              "      <td>hey mood roleplaying present adventuring rp no...</td>\n",
              "      <td>created thread set adventurefeel free enter sc...</td>\n",
              "      <td>tapa adventuring rp hey mood roleplaying again...</td>\n",
              "    </tr>\n",
              "    <tr>\n",
              "      <th>1</th>\n",
              "      <td>le château de malheureux ddd</td>\n",
              "      <td>Off Topic</td>\n",
              "      <td>Aug 14, 2020 3:20 pm</td>\n",
              "      <td>5</td>\n",
              "      <td>19900</td>\n",
              "      <td>35100</td>\n",
              "      <td>welcome dungeon ding dong private murder myste...</td>\n",
              "      <td>name carole losnedahlage ft specie angel sorta...</td>\n",
              "      <td>le château de malheureux ddd welcome dungeon d...</td>\n",
              "    </tr>\n",
              "    <tr>\n",
              "      <th>2</th>\n",
              "      <td>writer paid collabs</td>\n",
              "      <td>Off Topic</td>\n",
              "      <td>Jul 22, 2021 4:40 pm</td>\n",
              "      <td>0</td>\n",
              "      <td>1</td>\n",
              "      <td>11</td>\n",
              "      <td>hello enquire collabs script tell adapt either...</td>\n",
              "      <td>rate artist pay adapt</td>\n",
              "      <td>writer paid collabs how it hello enquire colla...</td>\n",
              "    </tr>\n",
              "    <tr>\n",
              "      <th>3</th>\n",
              "      <td>fantasy book unique worldbuilding</td>\n",
              "      <td>Off Topic</td>\n",
              "      <td>Jul 22, 2021 2:24 pm</td>\n",
              "      <td>5</td>\n",
              "      <td>3</td>\n",
              "      <td>39</td>\n",
              "      <td>found featured article worldbuilding huge fan ...</td>\n",
              "      <td>awesome done must pretty wild featured alongsi...</td>\n",
              "      <td>fantasy book unique worldbuilding found featur...</td>\n",
              "    </tr>\n",
              "    <tr>\n",
              "      <th>4</th>\n",
              "      <td>game playing right</td>\n",
              "      <td>Off Topic</td>\n",
              "      <td>Nov 10, 2019 1:34 pm</td>\n",
              "      <td>13</td>\n",
              "      <td>1000</td>\n",
              "      <td>10600</td>\n",
              "      <td>video game board game hand held game puzzle ga...</td>\n",
              "      <td>simplykit video game fire emblem enjoying micr...</td>\n",
              "      <td>what game playing right now video game board g...</td>\n",
              "    </tr>\n",
              "    <tr>\n",
              "      <th>...</th>\n",
              "      <td>...</td>\n",
              "      <td>...</td>\n",
              "      <td>...</td>\n",
              "      <td>...</td>\n",
              "      <td>...</td>\n",
              "      <td>...</td>\n",
              "      <td>...</td>\n",
              "      <td>...</td>\n",
              "      <td>...</td>\n",
              "    </tr>\n",
              "    <tr>\n",
              "      <th>8697</th>\n",
              "      <td>hero world comic hero</td>\n",
              "      <td>Reviews | Feedback</td>\n",
              "      <td>Aug 14, 2015 12:52 pm</td>\n",
              "      <td>0</td>\n",
              "      <td>2</td>\n",
              "      <td>618</td>\n",
              "      <td>hi forumim called hero pen beatthis promoting ...</td>\n",
              "      <td>welcome party pfabdn put link post user profil...</td>\n",
              "      <td>hero world comic hero hi forumim called hero p...</td>\n",
              "    </tr>\n",
              "    <tr>\n",
              "      <th>8698</th>\n",
              "      <td>review category</td>\n",
              "      <td>Reviews | Feedback</td>\n",
              "      <td>Jul 22, 2015 2:10 pm</td>\n",
              "      <td>1</td>\n",
              "      <td>5</td>\n",
              "      <td>1500</td>\n",
              "      <td>request provide feedback review content</td>\n",
              "      <td>understand whats exactly happening guess asked...</td>\n",
              "      <td>about review category request provide feedback...</td>\n",
              "    </tr>\n",
              "    <tr>\n",
              "      <th>8699</th>\n",
              "      <td>trade review fir review</td>\n",
              "      <td>Reviews | Feedback</td>\n",
              "      <td>Jul 20, 2015 9:01 pm</td>\n",
              "      <td>0</td>\n",
              "      <td>4</td>\n",
              "      <td>710</td>\n",
              "      <td>hey webtooncomic called skywardand quickfeed p...</td>\n",
              "      <td>hey nice opening although blurry squint eye sc...</td>\n",
              "      <td>trade review fir review hey webtooncomic calle...</td>\n",
              "    </tr>\n",
              "    <tr>\n",
              "      <th>8700</th>\n",
              "      <td>critique exchange</td>\n",
              "      <td>Reviews | Feedback</td>\n",
              "      <td>Jul 4, 2015 6:12 pm</td>\n",
              "      <td>1</td>\n",
              "      <td>55</td>\n",
              "      <td>2300</td>\n",
              "      <td>hey offering critique exchange honest critique...</td>\n",
              "      <td>yo awesome simon nero nine style reminds old b...</td>\n",
              "      <td>critique exchange hey offering critique exchan...</td>\n",
              "    </tr>\n",
              "    <tr>\n",
              "      <th>8701</th>\n",
              "      <td>eagle webcomic review signup thread</td>\n",
              "      <td>Reviews | Feedback</td>\n",
              "      <td>Jun 21, 2015 9:33 pm</td>\n",
              "      <td>2</td>\n",
              "      <td>57</td>\n",
              "      <td>2800</td>\n",
              "      <td>starting today taking signups webcomics review...</td>\n",
              "      <td>case anyone wondering cited example slice over...</td>\n",
              "      <td>eagle webcomic review signup thread starting t...</td>\n",
              "    </tr>\n",
              "  </tbody>\n",
              "</table>\n",
              "<p>8702 rows × 9 columns</p>\n",
              "</div>"
            ],
            "text/plain": [
              "                                    Title  ...                                               Post\n",
              "0                     tapa adventuring rp  ...  tapa adventuring rp hey mood roleplaying again...\n",
              "1            le château de malheureux ddd  ...  le château de malheureux ddd welcome dungeon d...\n",
              "2                     writer paid collabs  ...  writer paid collabs how it hello enquire colla...\n",
              "3       fantasy book unique worldbuilding  ...  fantasy book unique worldbuilding found featur...\n",
              "4                      game playing right  ...  what game playing right now video game board g...\n",
              "...                                   ...  ...                                                ...\n",
              "8697                hero world comic hero  ...  hero world comic hero hi forumim called hero p...\n",
              "8698                      review category  ...  about review category request provide feedback...\n",
              "8699              trade review fir review  ...  trade review fir review hey webtooncomic calle...\n",
              "8700                    critique exchange  ...  critique exchange hey offering critique exchan...\n",
              "8701  eagle webcomic review signup thread  ...  eagle webcomic review signup thread starting t...\n",
              "\n",
              "[8702 rows x 9 columns]"
            ]
          },
          "metadata": {
            "tags": []
          },
          "execution_count": 242
        }
      ]
    },
    {
      "cell_type": "code",
      "metadata": {
        "colab": {
          "base_uri": "https://localhost:8080/",
          "height": 430
        },
        "id": "owjvl4r9OGlF",
        "outputId": "767ae328-d7f8-4caa-b3e4-4c385b4964b0"
      },
      "source": [
        "data.groupby([\"Category\"]).size().plot.bar()"
      ],
      "execution_count": null,
      "outputs": [
        {
          "output_type": "execute_result",
          "data": {
            "text/plain": [
              "<matplotlib.axes._subplots.AxesSubplot at 0x7fc4815bf490>"
            ]
          },
          "metadata": {
            "tags": []
          },
          "execution_count": 243
        },
        {
          "output_type": "display_data",
          "data": {
            "image/png": "[encoded data removed]",
            "text/plain": [
              "<Figure size 432x288 with 1 Axes>"
            ]
          },
          "metadata": {
            "tags": [],
            "needs_background": "light"
          }
        }
      ]
    },
    {
      "cell_type": "code",
      "metadata": {
        "id": "7Ar4BkxvXdk6"
      },
      "source": [
        "# data.to_csv(\"AdjustedCleanTapasData.csv\", encoding=\"utf-8\", index=False)"
      ],
      "execution_count": null,
      "outputs": []
    }
  ]
}